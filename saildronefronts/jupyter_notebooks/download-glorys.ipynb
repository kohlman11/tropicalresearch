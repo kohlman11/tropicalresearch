{
 "cells": [
  {
   "cell_type": "code",
   "execution_count": 1,
   "id": "39df8c89-04ce-4bbc-a328-7da588797014",
   "metadata": {},
   "outputs": [
    {
     "name": "stdout",
     "output_type": "stream",
     "text": [
      "username:"
     ]
    },
    {
     "name": "stdin",
     "output_type": "stream",
     "text": [
      "  ckohlman\n"
     ]
    },
    {
     "name": "stdout",
     "output_type": "stream",
     "text": [
      "password:"
     ]
    },
    {
     "name": "stdin",
     "output_type": "stream",
     "text": [
      "  ········\n"
     ]
    },
    {
     "name": "stderr",
     "output_type": "stream",
     "text": [
      "INFO - 2025-03-04T17:24:02Z - Dataset version was not specified, the latest one was selected: \"202311\"\n",
      "INFO - 2025-03-04T17:24:02Z - Dataset part was not specified, the first one was selected: \"default\"\n",
      "INFO - 2025-03-04T17:24:06Z - Service was not specified, the default one was selected: \"arco-time-series\"\n",
      "INFO - 2025-03-04T17:24:10Z - Downloading using service arco-time-series...\n",
      "INFO - 2025-03-04T17:24:17Z - <xarray.Dataset> Size: 592MB\n",
      "Dimensions:    (depth: 1, latitude: 121, longitude: 721, time: 212)\n",
      "Coordinates:\n",
      "  * depth      (depth) float32 4B 0.494\n",
      "  * latitude   (latitude) float32 484B 0.0 0.08333 0.1667 ... 9.833 9.917 10.0\n",
      "  * longitude  (longitude) float32 3kB -170.0 -169.9 -169.8 ... -110.1 -110.0\n",
      "  * time       (time) datetime64[ns] 2kB 2017-08-01 2017-08-02 ... 2018-02-28\n",
      "Data variables:\n",
      "    so         (time, depth, latitude, longitude) float64 148MB dask.array<chunksize=(212, 1, 16, 16), meta=np.ndarray>\n",
      "    thetao     (time, depth, latitude, longitude) float64 148MB dask.array<chunksize=(212, 1, 16, 16), meta=np.ndarray>\n",
      "    uo         (time, depth, latitude, longitude) float64 148MB dask.array<chunksize=(212, 1, 16, 16), meta=np.ndarray>\n",
      "    vo         (time, depth, latitude, longitude) float64 148MB dask.array<chunksize=(212, 1, 16, 16), meta=np.ndarray>\n",
      "Attributes: (12/25)\n",
      "    Conventions:               CF-1.4\n",
      "    bulletin_date:             2021-07-07 00:00:00\n",
      "    bulletin_type:             operational\n",
      "    comment:                   CMEMS product\n",
      "    domain_name:               GL12\n",
      "    easting:                   longitude\n",
      "    ...                        ...\n",
      "    references:                http://www.mercator-ocean.fr\n",
      "    source:                    MERCATOR GLORYS12V1\n",
      "    title:                     daily mean fields from Global Ocean Physics An...\n",
      "    z_max:                     5727.9169921875\n",
      "    z_min:                     0.49402499198913574\n",
      "    copernicusmarine_version:  1.3.3\n",
      "INFO - 2025-03-04T17:24:17Z - Estimated size of the dataset file is 564.736 MB.\n",
      "Do you want to proceed with download? [Y/n]:"
     ]
    },
    {
     "name": "stdin",
     "output_type": "stream",
     "text": [
      "  Y\n"
     ]
    },
    {
     "name": "stderr",
     "output_type": "stream",
     "text": [
      "INFO - 2025-03-04T17:24:29Z - Writing to local storage. Please wait...\n"
     ]
    },
    {
     "data": {
      "application/vnd.jupyter.widget-view+json": {
       "model_id": "281ff4f0565a49f9aa41fa0df020d8c2",
       "version_major": 2,
       "version_minor": 0
      },
      "text/plain": [
       "  0%|          | 0/10210 [00:00<?, ?it/s]"
      ]
     },
     "metadata": {},
     "output_type": "display_data"
    },
    {
     "name": "stderr",
     "output_type": "stream",
     "text": [
      "INFO - 2025-03-04T17:27:10Z - Successfully downloaded to cmems_mod_glo_phy_my_0.083deg_P1D-m_so-thetao-uo-vo_170.00W-110.00W_0.00N-10.00N_0.49m_2017-08-01-2018-02-28.nc\n"
     ]
    },
    {
     "data": {
      "text/plain": [
       "PosixPath('cmems_mod_glo_phy_my_0.083deg_P1D-m_so-thetao-uo-vo_170.00W-110.00W_0.00N-10.00N_0.49m_2017-08-01-2018-02-28.nc')"
      ]
     },
     "execution_count": 1,
     "metadata": {},
     "output_type": "execute_result"
    }
   ],
   "source": [
    "import copernicusmarine\n",
    "# 2017 \n",
    "copernicusmarine.subset(\n",
    "  dataset_id=\"cmems_mod_glo_phy_my_0.083deg_P1D-m\",\n",
    "  variables=[\"so\", \"thetao\", \"uo\", \"vo\"],\n",
    "  minimum_longitude=-170,\n",
    "  maximum_longitude=-110,\n",
    "  minimum_latitude=0,\n",
    "  maximum_latitude=10,\n",
    "  start_datetime=\"2017-08-01T00:00:00\",\n",
    "  end_datetime=\"2018-02-28T00:00:00\",\n",
    "  minimum_depth=0.49402499198913574,\n",
    "  maximum_depth=0.49402499198913574,\n",
    ")"
   ]
  },
  {
   "cell_type": "code",
   "execution_count": 2,
   "id": "162d4179-410c-4a20-a7b1-4fb21315ed80",
   "metadata": {},
   "outputs": [
    {
     "name": "stdout",
     "output_type": "stream",
     "text": [
      "username:"
     ]
    },
    {
     "name": "stdin",
     "output_type": "stream",
     "text": [
      "  ckohlman\n"
     ]
    },
    {
     "name": "stdout",
     "output_type": "stream",
     "text": [
      "password:"
     ]
    },
    {
     "name": "stdin",
     "output_type": "stream",
     "text": [
      "  ········\n"
     ]
    },
    {
     "name": "stderr",
     "output_type": "stream",
     "text": [
      "INFO - 2025-03-04T17:42:02Z - Dataset version was not specified, the latest one was selected: \"202311\"\n",
      "INFO - 2025-03-04T17:42:02Z - Dataset part was not specified, the first one was selected: \"default\"\n",
      "INFO - 2025-03-04T17:42:06Z - Service was not specified, the default one was selected: \"arco-time-series\"\n",
      "INFO - 2025-03-04T17:42:09Z - Downloading using service arco-time-series...\n",
      "INFO - 2025-03-04T17:42:17Z - <xarray.Dataset> Size: 592MB\n",
      "Dimensions:    (depth: 1, latitude: 121, longitude: 721, time: 212)\n",
      "Coordinates:\n",
      "  * depth      (depth) float32 4B 0.494\n",
      "  * latitude   (latitude) float32 484B 0.0 0.08333 0.1667 ... 9.833 9.917 10.0\n",
      "  * longitude  (longitude) float32 3kB -170.0 -169.9 -169.8 ... -110.1 -110.0\n",
      "  * time       (time) datetime64[ns] 2kB 2018-08-01 2018-08-02 ... 2019-02-28\n",
      "Data variables:\n",
      "    so         (time, depth, latitude, longitude) float64 148MB dask.array<chunksize=(212, 1, 16, 16), meta=np.ndarray>\n",
      "    thetao     (time, depth, latitude, longitude) float64 148MB dask.array<chunksize=(212, 1, 16, 16), meta=np.ndarray>\n",
      "    uo         (time, depth, latitude, longitude) float64 148MB dask.array<chunksize=(212, 1, 16, 16), meta=np.ndarray>\n",
      "    vo         (time, depth, latitude, longitude) float64 148MB dask.array<chunksize=(212, 1, 16, 16), meta=np.ndarray>\n",
      "Attributes: (12/25)\n",
      "    Conventions:               CF-1.4\n",
      "    bulletin_date:             2021-07-07 00:00:00\n",
      "    bulletin_type:             operational\n",
      "    comment:                   CMEMS product\n",
      "    domain_name:               GL12\n",
      "    easting:                   longitude\n",
      "    ...                        ...\n",
      "    references:                http://www.mercator-ocean.fr\n",
      "    source:                    MERCATOR GLORYS12V1\n",
      "    title:                     daily mean fields from Global Ocean Physics An...\n",
      "    z_max:                     5727.9169921875\n",
      "    z_min:                     0.49402499198913574\n",
      "    copernicusmarine_version:  1.3.3\n",
      "INFO - 2025-03-04T17:42:17Z - Estimated size of the dataset file is 564.736 MB.\n",
      "Do you want to proceed with download? [Y/n]:"
     ]
    },
    {
     "name": "stdin",
     "output_type": "stream",
     "text": [
      "  Y\n"
     ]
    },
    {
     "name": "stderr",
     "output_type": "stream",
     "text": [
      "INFO - 2025-03-04T17:42:23Z - Writing to local storage. Please wait...\n"
     ]
    },
    {
     "data": {
      "application/vnd.jupyter.widget-view+json": {
       "model_id": "8bdcaf9e47c540b8be5ad35da49465af",
       "version_major": 2,
       "version_minor": 0
      },
      "text/plain": [
       "  0%|          | 0/10210 [00:00<?, ?it/s]"
      ]
     },
     "metadata": {},
     "output_type": "display_data"
    },
    {
     "name": "stderr",
     "output_type": "stream",
     "text": [
      "INFO - 2025-03-04T17:46:15Z - Successfully downloaded to cmems_mod_glo_phy_my_0.083deg_P1D-m_so-thetao-uo-vo_170.00W-110.00W_0.00N-10.00N_0.49m_2018-08-01-2019-02-28.nc\n"
     ]
    },
    {
     "data": {
      "text/plain": [
       "PosixPath('cmems_mod_glo_phy_my_0.083deg_P1D-m_so-thetao-uo-vo_170.00W-110.00W_0.00N-10.00N_0.49m_2018-08-01-2019-02-28.nc')"
      ]
     },
     "execution_count": 2,
     "metadata": {},
     "output_type": "execute_result"
    }
   ],
   "source": [
    "# 2018\n",
    "copernicusmarine.subset(\n",
    "  dataset_id=\"cmems_mod_glo_phy_my_0.083deg_P1D-m\",\n",
    "  variables=[\"so\", \"thetao\", \"uo\", \"vo\"],\n",
    "  minimum_longitude=-170,\n",
    "  maximum_longitude=-110,\n",
    "  minimum_latitude=0,\n",
    "  maximum_latitude=10,\n",
    "  start_datetime=\"2018-08-01T00:00:00\",\n",
    "  end_datetime=\"2019-02-28T00:00:00\",\n",
    "  minimum_depth=0.49402499198913574,\n",
    "  maximum_depth=0.49402499198913574,\n",
    ")"
   ]
  },
  {
   "cell_type": "code",
   "execution_count": 3,
   "id": "756a0df9-1942-4433-9b46-70148d4ac0fc",
   "metadata": {},
   "outputs": [
    {
     "name": "stdout",
     "output_type": "stream",
     "text": [
      "username:"
     ]
    },
    {
     "name": "stdin",
     "output_type": "stream",
     "text": [
      "  ckohlman\n"
     ]
    },
    {
     "name": "stdout",
     "output_type": "stream",
     "text": [
      "password:"
     ]
    },
    {
     "name": "stdin",
     "output_type": "stream",
     "text": [
      "  ········\n"
     ]
    },
    {
     "name": "stderr",
     "output_type": "stream",
     "text": [
      "INFO - 2025-03-04T17:50:28Z - Dataset version was not specified, the latest one was selected: \"202311\"\n",
      "INFO - 2025-03-04T17:50:28Z - Dataset part was not specified, the first one was selected: \"default\"\n",
      "INFO - 2025-03-04T17:50:31Z - Service was not specified, the default one was selected: \"arco-time-series\"\n",
      "INFO - 2025-03-04T17:50:35Z - Downloading using service arco-time-series...\n",
      "INFO - 2025-03-04T17:50:43Z - <xarray.Dataset> Size: 592MB\n",
      "Dimensions:    (depth: 1, latitude: 121, longitude: 721, time: 212)\n",
      "Coordinates:\n",
      "  * depth      (depth) float32 4B 0.494\n",
      "  * latitude   (latitude) float32 484B 0.0 0.08333 0.1667 ... 9.833 9.917 10.0\n",
      "  * longitude  (longitude) float32 3kB -170.0 -169.9 -169.8 ... -110.1 -110.0\n",
      "  * time       (time) datetime64[ns] 2kB 2019-08-01 2019-08-02 ... 2020-02-28\n",
      "Data variables:\n",
      "    so         (time, depth, latitude, longitude) float64 148MB dask.array<chunksize=(212, 1, 16, 16), meta=np.ndarray>\n",
      "    thetao     (time, depth, latitude, longitude) float64 148MB dask.array<chunksize=(212, 1, 16, 16), meta=np.ndarray>\n",
      "    uo         (time, depth, latitude, longitude) float64 148MB dask.array<chunksize=(212, 1, 16, 16), meta=np.ndarray>\n",
      "    vo         (time, depth, latitude, longitude) float64 148MB dask.array<chunksize=(212, 1, 16, 16), meta=np.ndarray>\n",
      "Attributes: (12/25)\n",
      "    Conventions:               CF-1.4\n",
      "    bulletin_date:             2021-07-07 00:00:00\n",
      "    bulletin_type:             operational\n",
      "    comment:                   CMEMS product\n",
      "    domain_name:               GL12\n",
      "    easting:                   longitude\n",
      "    ...                        ...\n",
      "    references:                http://www.mercator-ocean.fr\n",
      "    source:                    MERCATOR GLORYS12V1\n",
      "    title:                     daily mean fields from Global Ocean Physics An...\n",
      "    z_max:                     5727.9169921875\n",
      "    z_min:                     0.49402499198913574\n",
      "    copernicusmarine_version:  1.3.3\n",
      "INFO - 2025-03-04T17:50:43Z - Estimated size of the dataset file is 564.736 MB.\n",
      "Do you want to proceed with download? [Y/n]:"
     ]
    },
    {
     "name": "stdin",
     "output_type": "stream",
     "text": [
      "  Y\n"
     ]
    },
    {
     "name": "stderr",
     "output_type": "stream",
     "text": [
      "INFO - 2025-03-04T17:51:07Z - Writing to local storage. Please wait...\n"
     ]
    },
    {
     "data": {
      "application/vnd.jupyter.widget-view+json": {
       "model_id": "a8af1d9e9ae2418b9ed5e45544d625a0",
       "version_major": 2,
       "version_minor": 0
      },
      "text/plain": [
       "  0%|          | 0/10210 [00:00<?, ?it/s]"
      ]
     },
     "metadata": {},
     "output_type": "display_data"
    },
    {
     "name": "stderr",
     "output_type": "stream",
     "text": [
      "INFO - 2025-03-04T17:54:38Z - Successfully downloaded to cmems_mod_glo_phy_my_0.083deg_P1D-m_so-thetao-uo-vo_170.00W-110.00W_0.00N-10.00N_0.49m_2019-08-01-2020-02-28.nc\n"
     ]
    },
    {
     "data": {
      "text/plain": [
       "PosixPath('cmems_mod_glo_phy_my_0.083deg_P1D-m_so-thetao-uo-vo_170.00W-110.00W_0.00N-10.00N_0.49m_2019-08-01-2020-02-28.nc')"
      ]
     },
     "execution_count": 3,
     "metadata": {},
     "output_type": "execute_result"
    }
   ],
   "source": [
    "# 2019\n",
    "copernicusmarine.subset(\n",
    "  dataset_id=\"cmems_mod_glo_phy_my_0.083deg_P1D-m\",\n",
    "  variables=[\"so\", \"thetao\", \"uo\", \"vo\"],\n",
    "  minimum_longitude=-170,\n",
    "  maximum_longitude=-110,\n",
    "  minimum_latitude=0,\n",
    "  maximum_latitude=10,\n",
    "  start_datetime=\"2019-08-01T00:00:00\",\n",
    "  end_datetime=\"2020-02-28T00:00:00\",\n",
    "  minimum_depth=0.49402499198913574,\n",
    "  maximum_depth=0.49402499198913574,\n",
    ")"
   ]
  },
  {
   "cell_type": "code",
   "execution_count": 4,
   "id": "70c4d92a-179e-4c8b-abf3-74e3e0d74326",
   "metadata": {},
   "outputs": [
    {
     "name": "stdout",
     "output_type": "stream",
     "text": [
      "username:"
     ]
    },
    {
     "name": "stdin",
     "output_type": "stream",
     "text": [
      "  ckohlman\n"
     ]
    },
    {
     "name": "stdout",
     "output_type": "stream",
     "text": [
      "password:"
     ]
    },
    {
     "name": "stdin",
     "output_type": "stream",
     "text": [
      "  ········\n"
     ]
    },
    {
     "name": "stderr",
     "output_type": "stream",
     "text": [
      "INFO - 2025-03-04T17:54:52Z - Dataset version was not specified, the latest one was selected: \"202311\"\n",
      "INFO - 2025-03-04T17:54:52Z - Dataset part was not specified, the first one was selected: \"default\"\n",
      "INFO - 2025-03-04T17:54:55Z - Service was not specified, the default one was selected: \"arco-time-series\"\n",
      "INFO - 2025-03-04T17:54:58Z - Downloading using service arco-time-series...\n",
      "INFO - 2025-03-04T17:55:07Z - <xarray.Dataset> Size: 592MB\n",
      "Dimensions:    (depth: 1, latitude: 121, longitude: 721, time: 212)\n",
      "Coordinates:\n",
      "  * depth      (depth) float32 4B 0.494\n",
      "  * latitude   (latitude) float32 484B 0.0 0.08333 0.1667 ... 9.833 9.917 10.0\n",
      "  * longitude  (longitude) float32 3kB -170.0 -169.9 -169.8 ... -110.1 -110.0\n",
      "  * time       (time) datetime64[ns] 2kB 2020-08-01 2020-08-02 ... 2021-02-28\n",
      "Data variables:\n",
      "    so         (time, depth, latitude, longitude) float64 148MB dask.array<chunksize=(212, 1, 16, 16), meta=np.ndarray>\n",
      "    thetao     (time, depth, latitude, longitude) float64 148MB dask.array<chunksize=(212, 1, 16, 16), meta=np.ndarray>\n",
      "    uo         (time, depth, latitude, longitude) float64 148MB dask.array<chunksize=(212, 1, 16, 16), meta=np.ndarray>\n",
      "    vo         (time, depth, latitude, longitude) float64 148MB dask.array<chunksize=(212, 1, 16, 16), meta=np.ndarray>\n",
      "Attributes: (12/25)\n",
      "    Conventions:               CF-1.4\n",
      "    bulletin_date:             2021-07-07 00:00:00\n",
      "    bulletin_type:             operational\n",
      "    comment:                   CMEMS product\n",
      "    domain_name:               GL12\n",
      "    easting:                   longitude\n",
      "    ...                        ...\n",
      "    references:                http://www.mercator-ocean.fr\n",
      "    source:                    MERCATOR GLORYS12V1\n",
      "    title:                     daily mean fields from Global Ocean Physics An...\n",
      "    z_max:                     5727.9169921875\n",
      "    z_min:                     0.49402499198913574\n",
      "    copernicusmarine_version:  1.3.3\n",
      "INFO - 2025-03-04T17:55:07Z - Estimated size of the dataset file is 564.736 MB.\n",
      "Do you want to proceed with download? [Y/n]:"
     ]
    },
    {
     "name": "stdin",
     "output_type": "stream",
     "text": [
      "  Y\n"
     ]
    },
    {
     "name": "stderr",
     "output_type": "stream",
     "text": [
      "INFO - 2025-03-04T17:58:55Z - Writing to local storage. Please wait...\n"
     ]
    },
    {
     "data": {
      "application/vnd.jupyter.widget-view+json": {
       "model_id": "b53088c5abcc4085b991e5b76dae6169",
       "version_major": 2,
       "version_minor": 0
      },
      "text/plain": [
       "  0%|          | 0/10210 [00:00<?, ?it/s]"
      ]
     },
     "metadata": {},
     "output_type": "display_data"
    },
    {
     "name": "stderr",
     "output_type": "stream",
     "text": [
      "INFO - 2025-03-04T18:03:08Z - Successfully downloaded to cmems_mod_glo_phy_my_0.083deg_P1D-m_so-thetao-uo-vo_170.00W-110.00W_0.00N-10.00N_0.49m_2020-08-01-2021-02-28.nc\n"
     ]
    },
    {
     "data": {
      "text/plain": [
       "PosixPath('cmems_mod_glo_phy_my_0.083deg_P1D-m_so-thetao-uo-vo_170.00W-110.00W_0.00N-10.00N_0.49m_2020-08-01-2021-02-28.nc')"
      ]
     },
     "execution_count": 4,
     "metadata": {},
     "output_type": "execute_result"
    }
   ],
   "source": [
    "# 2020\n",
    "copernicusmarine.subset(\n",
    "  dataset_id=\"cmems_mod_glo_phy_my_0.083deg_P1D-m\",\n",
    "  variables=[\"so\", \"thetao\", \"uo\", \"vo\"],\n",
    "  minimum_longitude=-170,\n",
    "  maximum_longitude=-110,\n",
    "  minimum_latitude=0,\n",
    "  maximum_latitude=10,\n",
    "  start_datetime=\"2020-08-01T00:00:00\",\n",
    "  end_datetime=\"2021-02-28T00:00:00\",\n",
    "  minimum_depth=0.49402499198913574,\n",
    "  maximum_depth=0.49402499198913574,\n",
    ")"
   ]
  },
  {
   "cell_type": "code",
   "execution_count": 5,
   "id": "6a7c8f66-2f32-4414-b3dc-90340a06634e",
   "metadata": {},
   "outputs": [
    {
     "name": "stdout",
     "output_type": "stream",
     "text": [
      "username:"
     ]
    },
    {
     "name": "stdin",
     "output_type": "stream",
     "text": [
      "  ckohlman\n"
     ]
    },
    {
     "name": "stdout",
     "output_type": "stream",
     "text": [
      "password:"
     ]
    },
    {
     "name": "stdin",
     "output_type": "stream",
     "text": [
      "  ········\n"
     ]
    },
    {
     "name": "stderr",
     "output_type": "stream",
     "text": [
      "INFO - 2025-03-04T18:04:25Z - Dataset version was not specified, the latest one was selected: \"202311\"\n",
      "INFO - 2025-03-04T18:04:25Z - Dataset part was not specified, the first one was selected: \"default\"\n",
      "INFO - 2025-03-04T18:04:31Z - Service was not specified, the default one was selected: \"arco-time-series\"\n",
      "INFO - 2025-03-04T18:04:35Z - Downloading using service arco-time-series...\n",
      "INFO - 2025-03-04T18:04:39Z - <xarray.Dataset> Size: 34MB\n",
      "Dimensions:      (depth: 1, latitude: 41, longitude: 241, time: 212)\n",
      "Coordinates:\n",
      "  * depth        (depth) float32 4B 0.5058\n",
      "  * latitude     (latitude) float32 164B 0.0 0.25 0.5 0.75 ... 9.5 9.75 10.0\n",
      "  * longitude    (longitude) float32 964B -170.0 -169.8 -169.5 ... -110.2 -110.0\n",
      "  * time         (time) datetime64[ns] 2kB 2021-08-01 2021-08-02 ... 2022-02-28\n",
      "Data variables:\n",
      "    thetao_glor  (time, depth, latitude, longitude) float32 8MB dask.array<chunksize=(212, 1, 16, 32), meta=np.ndarray>\n",
      "    uo_glor      (time, depth, latitude, longitude) float32 8MB dask.array<chunksize=(212, 1, 16, 32), meta=np.ndarray>\n",
      "    vo_glor      (time, depth, latitude, longitude) float32 8MB dask.array<chunksize=(212, 1, 16, 32), meta=np.ndarray>\n",
      "    so_glor      (time, depth, latitude, longitude) float32 8MB dask.array<chunksize=(212, 1, 16, 32), meta=np.ndarray>\n",
      "Attributes: (12/15)\n",
      "    Conventions:                   CF-1.6\n",
      "    area:                          Global\n",
      "    contact:                       servicedesk.cmems@mercator-ocean.eu\n",
      "    credit:                        E.U. Copernicus Marine Service Information...\n",
      "    history:                       Creation 2023-October-31 12:35:28 GMT+0200\n",
      "    institution:                   Mercator Ocean\n",
      "    ...                            ...\n",
      "    product_user_manual:           http://marine.copernicus.eu/documents/PUM/...\n",
      "    quality_information_document:  http://marine.copernicus.eu/documents/QUID...\n",
      "    references:                    http://marine.copernicus.eu\n",
      "    source:                        Copernicus Marine Service\n",
      "    title:                         Daily mean fields for product GLOBAL_MULTI...\n",
      "    copernicusmarine_version:      1.3.3\n",
      "INFO - 2025-03-04T18:04:39Z - Estimated size of the dataset file is 31.981 MB.\n",
      "Do you want to proceed with download? [Y/n]:"
     ]
    },
    {
     "name": "stdin",
     "output_type": "stream",
     "text": [
      "  Y\n"
     ]
    },
    {
     "name": "stderr",
     "output_type": "stream",
     "text": [
      "INFO - 2025-03-04T18:09:33Z - Writing to local storage. Please wait...\n"
     ]
    },
    {
     "data": {
      "application/vnd.jupyter.widget-view+json": {
       "model_id": "04400bfb5c634be7848253b97d652429",
       "version_major": 2,
       "version_minor": 0
      },
      "text/plain": [
       "  0%|          | 0/638 [00:00<?, ?it/s]"
      ]
     },
     "metadata": {},
     "output_type": "display_data"
    },
    {
     "name": "stderr",
     "output_type": "stream",
     "text": [
      "INFO - 2025-03-04T18:09:55Z - Successfully downloaded to cmems_mod_glo_phy-all_my_0.25deg_P1D-m_multi-vars_170.00W-110.00W_0.00N-10.00N_0.51m_2021-08-01-2022-02-28.nc\n"
     ]
    },
    {
     "data": {
      "text/plain": [
       "PosixPath('cmems_mod_glo_phy-all_my_0.25deg_P1D-m_multi-vars_170.00W-110.00W_0.00N-10.00N_0.51m_2021-08-01-2022-02-28.nc')"
      ]
     },
     "execution_count": 5,
     "metadata": {},
     "output_type": "execute_result"
    }
   ],
   "source": [
    "# 2021 (low resolution)\n",
    "copernicusmarine.subset(\n",
    "  dataset_id=\"cmems_mod_glo_phy-all_my_0.25deg_P1D-m\",\n",
    "  variables=[\"thetao_glor\", \"uo_glor\", \"vo_glor\", \"so_glor\"],\n",
    "  minimum_longitude=-170,\n",
    "  maximum_longitude=-110,\n",
    "  minimum_latitude=0,\n",
    "  maximum_latitude=10,\n",
    "  start_datetime=\"2021-08-01T00:00:00\",\n",
    "  end_datetime=\"2022-02-28T00:00:00\",\n",
    "  minimum_depth=0.49402499198913574,\n",
    "  maximum_depth=0.49402499198913574,\n",
    ")\n",
    "\n",
    "# rename the varaibles\n",
    "# saved as 'cmems_mod_glo_phy-all_my_0.25deg_P1D-m_multi-vars_170.00W-110.00W_0.00N-10.00N_0.51m_2021-08-01-2022-02-28.nc'"
   ]
  },
  {
   "cell_type": "code",
   "execution_count": 8,
   "id": "292b3937-005d-4976-9b5e-44407784473c",
   "metadata": {},
   "outputs": [
    {
     "name": "stdout",
     "output_type": "stream",
     "text": [
      "Saved renamed file to /Volumes/external/TIW/data/glorys/winters/cmems_mod_glo_phy-all_my_0.25deg_P1D-m_multi-vars_170.00W-110.00W_0.00N-10.00N_0.51m_2021-08-01-2022-02-28_renamed.nc\n"
     ]
    }
   ],
   "source": [
    "import xarray as xr\n",
    "\n",
    "# File path (update if the path is different)\n",
    "filename = '/Volumes/external/TIW/data/glorys/winters/cmems_mod_glo_phy-all_my_0.25deg_P1D-m_multi-vars_170.00W-110.00W_0.00N-10.00N_0.51m_2021-08-01-2022-02-28.nc'\n",
    "ds = xr.open_dataset(filename)\n",
    "\n",
    "# Rename variables to remove '_glor'\n",
    "rename_dict = {var: var.replace('_glor', '') for var in ds.variables if '_glor' in var}\n",
    "ds = ds.rename(rename_dict)\n",
    "\n",
    "# Save to a new file\n",
    "new_filename = filename.replace('.nc', '_renamed.nc')\n",
    "ds.to_netcdf(new_filename)\n",
    "\n",
    "print(f\"Saved renamed file to {new_filename}\")\n",
    "\n"
   ]
  },
  {
   "cell_type": "code",
   "execution_count": 9,
   "id": "796da8e5-584b-4b83-a53d-2e40e2431e66",
   "metadata": {},
   "outputs": [
    {
     "name": "stdout",
     "output_type": "stream",
     "text": [
      "username:"
     ]
    },
    {
     "name": "stdin",
     "output_type": "stream",
     "text": [
      "  ckohlman\n"
     ]
    },
    {
     "name": "stdout",
     "output_type": "stream",
     "text": [
      "password:"
     ]
    },
    {
     "name": "stdin",
     "output_type": "stream",
     "text": [
      "  ········\n"
     ]
    },
    {
     "name": "stderr",
     "output_type": "stream",
     "text": [
      "Fetching catalog: 100%|███████████████████████████| 3/3 [00:32<00:00, 10.74s/it]\n",
      "INFO - 2025-03-04T18:16:13Z - Dataset version was not specified, the latest one was selected: \"202406\"\n",
      "INFO - 2025-03-04T18:16:13Z - Dataset part was not specified, the first one was selected: \"default\"\n",
      "INFO - 2025-03-04T18:16:17Z - Service was not specified, the default one was selected: \"arco-time-series\"\n",
      "INFO - 2025-03-04T18:16:21Z - Downloading using service arco-time-series...\n",
      "INFO - 2025-03-04T18:16:26Z - <xarray.Dataset> Size: 295MB\n",
      "Dimensions:    (depth: 1, latitude: 121, longitude: 721, time: 845)\n",
      "Coordinates:\n",
      "  * depth      (depth) float32 4B 0.494\n",
      "  * latitude   (latitude) float32 484B 0.0 0.08334 0.1667 ... 9.833 9.917 10.0\n",
      "  * longitude  (longitude) float32 3kB -170.0 -169.9 -169.8 ... -110.1 -110.0\n",
      "  * time       (time) datetime64[ns] 7kB 2022-08-01 ... 2023-02-28\n",
      "Data variables:\n",
      "    thetao     (time, depth, latitude, longitude) float32 295MB dask.array<chunksize=(526, 1, 32, 32), meta=np.ndarray>\n",
      "Attributes: (12/14)\n",
      "    Conventions:                   CF-1.6\n",
      "    area:                          GLOBAL\n",
      "    contact:                       servicedesk.cmems@mercator-ocean.eu\n",
      "    credit:                        E.U. Copernicus Marine Service Information...\n",
      "    institution:                   Mercator Ocean\n",
      "    licence:                       http://marine.copernicus.eu/services-portf...\n",
      "    ...                            ...\n",
      "    product_user_manual:           http://marine.copernicus.eu/documents/PUM/...\n",
      "    quality_information_document:  http://marine.copernicus.eu/documents/QUID...\n",
      "    references:                    http://marine.copernicus.eu\n",
      "    source:                        MERCATOR GLO12\n",
      "    title:                         Instantaneous fields for product GLOBAL_AN...\n",
      "    copernicusmarine_version:      1.3.3\n",
      "INFO - 2025-03-04T18:16:26Z - Estimated size of the dataset file is 281.369 MB.\n",
      "Do you want to proceed with download? [Y/n]:"
     ]
    },
    {
     "name": "stdin",
     "output_type": "stream",
     "text": [
      "  Y\n"
     ]
    },
    {
     "name": "stderr",
     "output_type": "stream",
     "text": [
      "INFO - 2025-03-04T18:16:28Z - Writing to local storage. Please wait...\n"
     ]
    },
    {
     "data": {
      "application/vnd.jupyter.widget-view+json": {
       "model_id": "2d566bd426fa47049813daaf96149d7b",
       "version_major": 2,
       "version_minor": 0
      },
      "text/plain": [
       "  0%|          | 0/1850 [00:00<?, ?it/s]"
      ]
     },
     "metadata": {},
     "output_type": "display_data"
    },
    {
     "name": "stderr",
     "output_type": "stream",
     "text": [
      "INFO - 2025-03-04T18:17:19Z - Successfully downloaded to cmems_mod_glo_phy-thetao_anfc_0.083deg_PT6H-i_thetao_170.00W-110.00W_0.00N-10.00N_0.49m_2022-08-01-2023-02-28.nc\n"
     ]
    },
    {
     "name": "stdout",
     "output_type": "stream",
     "text": [
      "username:"
     ]
    },
    {
     "name": "stdin",
     "output_type": "stream",
     "text": [
      "  ckohlman\n"
     ]
    },
    {
     "name": "stdout",
     "output_type": "stream",
     "text": [
      "password:"
     ]
    },
    {
     "name": "stdin",
     "output_type": "stream",
     "text": [
      "  ········\n"
     ]
    },
    {
     "name": "stderr",
     "output_type": "stream",
     "text": [
      "INFO - 2025-03-04T18:19:50Z - Dataset version was not specified, the latest one was selected: \"202406\"\n",
      "INFO - 2025-03-04T18:19:50Z - Dataset part was not specified, the first one was selected: \"default\"\n",
      "INFO - 2025-03-04T18:19:54Z - Service was not specified, the default one was selected: \"arco-time-series\"\n",
      "INFO - 2025-03-04T18:19:58Z - Downloading using service arco-time-series...\n",
      "INFO - 2025-03-04T18:20:03Z - <xarray.Dataset> Size: 295MB\n",
      "Dimensions:    (depth: 1, latitude: 121, longitude: 721, time: 845)\n",
      "Coordinates:\n",
      "  * depth      (depth) float32 4B 0.494\n",
      "  * latitude   (latitude) float32 484B 0.0 0.08334 0.1667 ... 9.833 9.917 10.0\n",
      "  * longitude  (longitude) float32 3kB -170.0 -169.9 -169.8 ... -110.1 -110.0\n",
      "  * time       (time) datetime64[ns] 7kB 2022-08-01 ... 2023-02-28\n",
      "Data variables:\n",
      "    so         (time, depth, latitude, longitude) float32 295MB dask.array<chunksize=(526, 1, 32, 32), meta=np.ndarray>\n",
      "Attributes: (12/14)\n",
      "    Conventions:                   CF-1.6\n",
      "    area:                          GLOBAL\n",
      "    contact:                       servicedesk.cmems@mercator-ocean.eu\n",
      "    credit:                        E.U. Copernicus Marine Service Information...\n",
      "    institution:                   Mercator Ocean\n",
      "    licence:                       http://marine.copernicus.eu/services-portf...\n",
      "    ...                            ...\n",
      "    product_user_manual:           http://marine.copernicus.eu/documents/PUM/...\n",
      "    quality_information_document:  http://marine.copernicus.eu/documents/QUID...\n",
      "    references:                    http://marine.copernicus.eu\n",
      "    source:                        MERCATOR GLO12\n",
      "    title:                         Instantaneous fields for product GLOBAL_AN...\n",
      "    copernicusmarine_version:      1.3.3\n",
      "INFO - 2025-03-04T18:20:03Z - Estimated size of the dataset file is 281.369 MB.\n",
      "Do you want to proceed with download? [Y/n]:"
     ]
    },
    {
     "name": "stdin",
     "output_type": "stream",
     "text": [
      "  Y\n"
     ]
    },
    {
     "name": "stderr",
     "output_type": "stream",
     "text": [
      "INFO - 2025-03-04T18:20:06Z - Writing to local storage. Please wait...\n"
     ]
    },
    {
     "data": {
      "application/vnd.jupyter.widget-view+json": {
       "model_id": "67e468aa9b9e438d8aa470ec3c6c7af3",
       "version_major": 2,
       "version_minor": 0
      },
      "text/plain": [
       "  0%|          | 0/1850 [00:00<?, ?it/s]"
      ]
     },
     "metadata": {},
     "output_type": "display_data"
    },
    {
     "name": "stderr",
     "output_type": "stream",
     "text": [
      "INFO - 2025-03-04T18:20:43Z - Successfully downloaded to cmems_mod_glo_phy-so_anfc_0.083deg_PT6H-i_so_170.00W-110.00W_0.00N-10.00N_0.49m_2022-08-01-2023-02-28.nc\n"
     ]
    },
    {
     "name": "stdout",
     "output_type": "stream",
     "text": [
      "username:"
     ]
    },
    {
     "name": "stdin",
     "output_type": "stream",
     "text": [
      "  ckohlman\n"
     ]
    },
    {
     "name": "stdout",
     "output_type": "stream",
     "text": [
      "password:"
     ]
    },
    {
     "name": "stdin",
     "output_type": "stream",
     "text": [
      "  ········\n"
     ]
    },
    {
     "name": "stderr",
     "output_type": "stream",
     "text": [
      "INFO - 2025-03-04T18:20:49Z - Dataset version was not specified, the latest one was selected: \"202406\"\n",
      "INFO - 2025-03-04T18:20:49Z - Dataset part was not specified, the first one was selected: \"default\"\n",
      "INFO - 2025-03-04T18:20:53Z - Service was not specified, the default one was selected: \"arco-time-series\"\n",
      "INFO - 2025-03-04T18:20:59Z - Downloading using service arco-time-series...\n",
      "INFO - 2025-03-04T18:21:04Z - <xarray.Dataset> Size: 590MB\n",
      "Dimensions:    (depth: 1, latitude: 121, longitude: 721, time: 845)\n",
      "Coordinates:\n",
      "  * depth      (depth) float32 4B 0.494\n",
      "  * latitude   (latitude) float32 484B 0.0 0.08334 0.1667 ... 9.833 9.917 10.0\n",
      "  * longitude  (longitude) float32 3kB -170.0 -169.9 -169.8 ... -110.1 -110.0\n",
      "  * time       (time) datetime64[ns] 7kB 2022-08-01 ... 2023-02-28\n",
      "Data variables:\n",
      "    uo         (time, depth, latitude, longitude) float32 295MB dask.array<chunksize=(526, 1, 32, 32), meta=np.ndarray>\n",
      "    vo         (time, depth, latitude, longitude) float32 295MB dask.array<chunksize=(526, 1, 32, 32), meta=np.ndarray>\n",
      "Attributes: (12/14)\n",
      "    Conventions:                   CF-1.6\n",
      "    area:                          GLOBAL\n",
      "    contact:                       servicedesk.cmems@mercator-ocean.eu\n",
      "    credit:                        E.U. Copernicus Marine Service Information...\n",
      "    institution:                   Mercator Ocean\n",
      "    licence:                       http://marine.copernicus.eu/services-portf...\n",
      "    ...                            ...\n",
      "    product_user_manual:           http://marine.copernicus.eu/documents/PUM/...\n",
      "    quality_information_document:  http://marine.copernicus.eu/documents/QUID...\n",
      "    references:                    http://marine.copernicus.eu\n",
      "    source:                        MERCATOR GLO12\n",
      "    title:                         Instantaneous fields for product GLOBAL_AN...\n",
      "    copernicusmarine_version:      1.3.3\n",
      "INFO - 2025-03-04T18:21:04Z - Estimated size of the dataset file is 562.738 MB.\n",
      "Do you want to proceed with download? [Y/n]:"
     ]
    },
    {
     "name": "stdin",
     "output_type": "stream",
     "text": [
      "  Y\n"
     ]
    },
    {
     "name": "stderr",
     "output_type": "stream",
     "text": [
      "INFO - 2025-03-04T18:21:46Z - Writing to local storage. Please wait...\n"
     ]
    },
    {
     "data": {
      "application/vnd.jupyter.widget-view+json": {
       "model_id": "a5da9b6acba04fb8b4b1cb7c711e8ae7",
       "version_major": 2,
       "version_minor": 0
      },
      "text/plain": [
       "  0%|          | 0/3698 [00:00<?, ?it/s]"
      ]
     },
     "metadata": {},
     "output_type": "display_data"
    },
    {
     "name": "stderr",
     "output_type": "stream",
     "text": [
      "INFO - 2025-03-04T18:23:17Z - Successfully downloaded to cmems_mod_glo_phy-cur_anfc_0.083deg_PT6H-i_uo-vo_170.00W-110.00W_0.00N-10.00N_0.49m_2022-08-01-2023-02-28.nc\n"
     ]
    },
    {
     "data": {
      "text/plain": [
       "PosixPath('cmems_mod_glo_phy-cur_anfc_0.083deg_PT6H-i_uo-vo_170.00W-110.00W_0.00N-10.00N_0.49m_2022-08-01-2023-02-28.nc')"
      ]
     },
     "execution_count": 9,
     "metadata": {},
     "output_type": "execute_result"
    }
   ],
   "source": [
    "# 2022\n",
    "\n",
    "start_datetime=\"2022-08-01T00:00:00\"\n",
    "end_datetime=\"2023-02-28T00:00:00\"\n",
    "\n",
    "copernicusmarine.subset(\n",
    "  dataset_id=\"cmems_mod_glo_phy-thetao_anfc_0.083deg_PT6H-i\",\n",
    "  variables=[\"thetao\"],\n",
    "  minimum_longitude=-170,\n",
    "  maximum_longitude=-110,\n",
    "  minimum_latitude=0,\n",
    "  maximum_latitude=10,\n",
    "  start_datetime=start_datetime,\n",
    "  end_datetime=end_datetime,\n",
    "  minimum_depth=0.49402499198913574,\n",
    "  maximum_depth=0.49402499198913574,\n",
    ")\n",
    "\n",
    "copernicusmarine.subset(\n",
    "  dataset_id=\"cmems_mod_glo_phy-so_anfc_0.083deg_PT6H-i\",\n",
    "  variables=[\"so\"],\n",
    "  minimum_longitude=-170,\n",
    "  maximum_longitude=-110,\n",
    "  minimum_latitude=0,\n",
    "  maximum_latitude=10,\n",
    "  start_datetime=start_datetime,\n",
    "  end_datetime=end_datetime,\n",
    "  minimum_depth=0.49402499198913574,\n",
    "  maximum_depth=0.49402499198913574,\n",
    ")\n",
    "\n",
    "copernicusmarine.subset(\n",
    "  dataset_id=\"cmems_mod_glo_phy-cur_anfc_0.083deg_PT6H-i\",\n",
    "  variables=[\"uo\", \"vo\"],\n",
    "  minimum_longitude=-170,\n",
    "  maximum_longitude=-110,\n",
    "  minimum_latitude=0,\n",
    "  maximum_latitude=10,\n",
    "  start_datetime=start_datetime,\n",
    "  end_datetime=end_datetime,\n",
    "  minimum_depth=0.49402499198913574,\n",
    "  maximum_depth=0.49402499198913574,\n",
    ")\n",
    "\n",
    "## will need to add to just one netcdf"
   ]
  },
  {
   "cell_type": "code",
   "execution_count": 10,
   "id": "c6a0f83a-ffa7-46e5-8fd8-9835d56c3ee5",
   "metadata": {},
   "outputs": [
    {
     "name": "stdout",
     "output_type": "stream",
     "text": [
      "Saved combined dataset to cmems_mod_glo_phy_my_0.083deg_P1D-m_so-thetao-uo-vo_170.00W-110.00W_0.00N-10.00N_0.49m_2022-08-01_to_2023-02-28.nc\n"
     ]
    }
   ],
   "source": [
    "import xarray as xr\n",
    "\n",
    "# Paths to your three downloaded files (update these with your actual filenames if needed)\n",
    "thetao_file = 'cmems_mod_glo_phy-thetao_anfc_0.083deg_PT6H-i_thetao_170.00W-110.00W_0.00N-10.00N_0.49m_2022-08-01-2023-02-28.nc'\n",
    "so_file = 'cmems_mod_glo_phy-so_anfc_0.083deg_PT6H-i_so_170.00W-110.00W_0.00N-10.00N_0.49m_2022-08-01-2023-02-28.nc'\n",
    "cur_file = 'cmems_mod_glo_phy-cur_anfc_0.083deg_PT6H-i_uo-vo_170.00W-110.00W_0.00N-10.00N_0.49m_2022-08-01-2023-02-28.nc'\n",
    "\n",
    "# Open all three datasets\n",
    "ds_thetao = xr.open_dataset(thetao_file)\n",
    "ds_so = xr.open_dataset(so_file)\n",
    "ds_cur = xr.open_dataset(cur_file)\n",
    "\n",
    "# Combine them into one dataset (automatic merge on common dimensions like time, lat, lon, depth)\n",
    "combined_ds = xr.merge([ds_thetao, ds_so, ds_cur])\n",
    "\n",
    "# Optional: Check variable names if you want to clean them\n",
    "# print(combined_ds)\n",
    "\n",
    "# Save to a new combined file\n",
    "combined_filename = 'cmems_mod_glo_phy_my_0.083deg_P1D-m_so-thetao-uo-vo_170.00W-110.00W_0.00N-10.00N_0.49m_2022-08-01_to_2023-02-28.nc'\n",
    "combined_ds.to_netcdf(combined_filename)\n",
    "\n",
    "print(f\"Saved combined dataset to {combined_filename}\")\n"
   ]
  },
  {
   "cell_type": "code",
   "execution_count": 13,
   "id": "b2b201c1-0366-4481-b20e-6e173a8a9139",
   "metadata": {},
   "outputs": [
    {
     "name": "stdout",
     "output_type": "stream",
     "text": [
      "username:"
     ]
    },
    {
     "name": "stdin",
     "output_type": "stream",
     "text": [
      "  ckohlman\n"
     ]
    },
    {
     "name": "stdout",
     "output_type": "stream",
     "text": [
      "password:"
     ]
    },
    {
     "name": "stdin",
     "output_type": "stream",
     "text": [
      "  ········\n"
     ]
    },
    {
     "name": "stderr",
     "output_type": "stream",
     "text": [
      "INFO - 2025-03-04T18:24:13Z - Dataset version was not specified, the latest one was selected: \"202406\"\n",
      "INFO - 2025-03-04T18:24:13Z - Dataset part was not specified, the first one was selected: \"default\"\n",
      "INFO - 2025-03-04T18:24:16Z - Service was not specified, the default one was selected: \"arco-time-series\"\n",
      "INFO - 2025-03-04T18:24:20Z - Downloading using service arco-time-series...\n",
      "INFO - 2025-03-04T18:24:25Z - <xarray.Dataset> Size: 295MB\n",
      "Dimensions:    (depth: 1, latitude: 121, longitude: 721, time: 845)\n",
      "Coordinates:\n",
      "  * depth      (depth) float32 4B 0.494\n",
      "  * latitude   (latitude) float32 484B 0.0 0.08334 0.1667 ... 9.833 9.917 10.0\n",
      "  * longitude  (longitude) float32 3kB -170.0 -169.9 -169.8 ... -110.1 -110.0\n",
      "  * time       (time) datetime64[ns] 7kB 2023-08-01 ... 2024-02-28\n",
      "Data variables:\n",
      "    thetao     (time, depth, latitude, longitude) float32 295MB dask.array<chunksize=(526, 1, 32, 32), meta=np.ndarray>\n",
      "Attributes: (12/14)\n",
      "    Conventions:                   CF-1.6\n",
      "    area:                          GLOBAL\n",
      "    contact:                       servicedesk.cmems@mercator-ocean.eu\n",
      "    credit:                        E.U. Copernicus Marine Service Information...\n",
      "    institution:                   Mercator Ocean\n",
      "    licence:                       http://marine.copernicus.eu/services-portf...\n",
      "    ...                            ...\n",
      "    product_user_manual:           http://marine.copernicus.eu/documents/PUM/...\n",
      "    quality_information_document:  http://marine.copernicus.eu/documents/QUID...\n",
      "    references:                    http://marine.copernicus.eu\n",
      "    source:                        MERCATOR GLO12\n",
      "    title:                         Instantaneous fields for product GLOBAL_AN...\n",
      "    copernicusmarine_version:      1.3.3\n",
      "INFO - 2025-03-04T18:24:25Z - Estimated size of the dataset file is 281.369 MB.\n",
      "Do you want to proceed with download? [Y/n]:"
     ]
    },
    {
     "name": "stdin",
     "output_type": "stream",
     "text": [
      "  Y\n"
     ]
    },
    {
     "name": "stderr",
     "output_type": "stream",
     "text": [
      "INFO - 2025-03-04T18:24:27Z - Writing to local storage. Please wait...\n"
     ]
    },
    {
     "data": {
      "application/vnd.jupyter.widget-view+json": {
       "model_id": "d9ea749127754e4cb3efe5990db96b53",
       "version_major": 2,
       "version_minor": 0
      },
      "text/plain": [
       "  0%|          | 0/1482 [00:00<?, ?it/s]"
      ]
     },
     "metadata": {},
     "output_type": "display_data"
    },
    {
     "name": "stderr",
     "output_type": "stream",
     "text": [
      "INFO - 2025-03-04T18:24:51Z - Successfully downloaded to cmems_mod_glo_phy-thetao_anfc_0.083deg_PT6H-i_thetao_170.00W-110.00W_0.00N-10.00N_0.49m_2023-08-01-2024-02-28.nc\n"
     ]
    },
    {
     "name": "stdout",
     "output_type": "stream",
     "text": [
      "username:"
     ]
    },
    {
     "name": "stdin",
     "output_type": "stream",
     "text": [
      "  ckohlman\n"
     ]
    },
    {
     "name": "stdout",
     "output_type": "stream",
     "text": [
      "password:"
     ]
    },
    {
     "name": "stdin",
     "output_type": "stream",
     "text": [
      "  ········\n"
     ]
    },
    {
     "name": "stderr",
     "output_type": "stream",
     "text": [
      "INFO - 2025-03-04T18:24:57Z - Dataset version was not specified, the latest one was selected: \"202406\"\n",
      "INFO - 2025-03-04T18:24:57Z - Dataset part was not specified, the first one was selected: \"default\"\n",
      "INFO - 2025-03-04T18:25:00Z - Service was not specified, the default one was selected: \"arco-time-series\"\n",
      "INFO - 2025-03-04T18:25:04Z - Downloading using service arco-time-series...\n",
      "INFO - 2025-03-04T18:25:08Z - <xarray.Dataset> Size: 295MB\n",
      "Dimensions:    (depth: 1, latitude: 121, longitude: 721, time: 845)\n",
      "Coordinates:\n",
      "  * depth      (depth) float32 4B 0.494\n",
      "  * latitude   (latitude) float32 484B 0.0 0.08334 0.1667 ... 9.833 9.917 10.0\n",
      "  * longitude  (longitude) float32 3kB -170.0 -169.9 -169.8 ... -110.1 -110.0\n",
      "  * time       (time) datetime64[ns] 7kB 2023-08-01 ... 2024-02-28\n",
      "Data variables:\n",
      "    so         (time, depth, latitude, longitude) float32 295MB dask.array<chunksize=(526, 1, 32, 32), meta=np.ndarray>\n",
      "Attributes: (12/14)\n",
      "    Conventions:                   CF-1.6\n",
      "    area:                          GLOBAL\n",
      "    contact:                       servicedesk.cmems@mercator-ocean.eu\n",
      "    credit:                        E.U. Copernicus Marine Service Information...\n",
      "    institution:                   Mercator Ocean\n",
      "    licence:                       http://marine.copernicus.eu/services-portf...\n",
      "    ...                            ...\n",
      "    product_user_manual:           http://marine.copernicus.eu/documents/PUM/...\n",
      "    quality_information_document:  http://marine.copernicus.eu/documents/QUID...\n",
      "    references:                    http://marine.copernicus.eu\n",
      "    source:                        MERCATOR GLO12\n",
      "    title:                         Instantaneous fields for product GLOBAL_AN...\n",
      "    copernicusmarine_version:      1.3.3\n",
      "INFO - 2025-03-04T18:25:08Z - Estimated size of the dataset file is 281.369 MB.\n",
      "Do you want to proceed with download? [Y/n]:"
     ]
    },
    {
     "name": "stdin",
     "output_type": "stream",
     "text": [
      "  Y\n"
     ]
    },
    {
     "name": "stderr",
     "output_type": "stream",
     "text": [
      "INFO - 2025-03-04T18:25:16Z - Writing to local storage. Please wait...\n"
     ]
    },
    {
     "data": {
      "application/vnd.jupyter.widget-view+json": {
       "model_id": "8b187e760b7f4500a906dc21315aa3b2",
       "version_major": 2,
       "version_minor": 0
      },
      "text/plain": [
       "  0%|          | 0/1482 [00:00<?, ?it/s]"
      ]
     },
     "metadata": {},
     "output_type": "display_data"
    },
    {
     "name": "stderr",
     "output_type": "stream",
     "text": [
      "INFO - 2025-03-04T18:25:40Z - Successfully downloaded to cmems_mod_glo_phy-so_anfc_0.083deg_PT6H-i_so_170.00W-110.00W_0.00N-10.00N_0.49m_2023-08-01-2024-02-28.nc\n"
     ]
    },
    {
     "name": "stdout",
     "output_type": "stream",
     "text": [
      "username:"
     ]
    },
    {
     "name": "stdin",
     "output_type": "stream",
     "text": [
      "  ckohlman\n"
     ]
    },
    {
     "name": "stdout",
     "output_type": "stream",
     "text": [
      "password:"
     ]
    },
    {
     "name": "stdin",
     "output_type": "stream",
     "text": [
      "  ········\n"
     ]
    },
    {
     "name": "stderr",
     "output_type": "stream",
     "text": [
      "INFO - 2025-03-04T18:25:47Z - Dataset version was not specified, the latest one was selected: \"202406\"\n",
      "INFO - 2025-03-04T18:25:47Z - Dataset part was not specified, the first one was selected: \"default\"\n",
      "INFO - 2025-03-04T18:25:50Z - Service was not specified, the default one was selected: \"arco-time-series\"\n",
      "INFO - 2025-03-04T18:25:54Z - Downloading using service arco-time-series...\n",
      "INFO - 2025-03-04T18:25:59Z - <xarray.Dataset> Size: 590MB\n",
      "Dimensions:    (depth: 1, latitude: 121, longitude: 721, time: 845)\n",
      "Coordinates:\n",
      "  * depth      (depth) float32 4B 0.494\n",
      "  * latitude   (latitude) float32 484B 0.0 0.08334 0.1667 ... 9.833 9.917 10.0\n",
      "  * longitude  (longitude) float32 3kB -170.0 -169.9 -169.8 ... -110.1 -110.0\n",
      "  * time       (time) datetime64[ns] 7kB 2023-08-01 ... 2024-02-28\n",
      "Data variables:\n",
      "    uo         (time, depth, latitude, longitude) float32 295MB dask.array<chunksize=(526, 1, 32, 32), meta=np.ndarray>\n",
      "    vo         (time, depth, latitude, longitude) float32 295MB dask.array<chunksize=(526, 1, 32, 32), meta=np.ndarray>\n",
      "Attributes: (12/14)\n",
      "    Conventions:                   CF-1.6\n",
      "    area:                          GLOBAL\n",
      "    contact:                       servicedesk.cmems@mercator-ocean.eu\n",
      "    credit:                        E.U. Copernicus Marine Service Information...\n",
      "    institution:                   Mercator Ocean\n",
      "    licence:                       http://marine.copernicus.eu/services-portf...\n",
      "    ...                            ...\n",
      "    product_user_manual:           http://marine.copernicus.eu/documents/PUM/...\n",
      "    quality_information_document:  http://marine.copernicus.eu/documents/QUID...\n",
      "    references:                    http://marine.copernicus.eu\n",
      "    source:                        MERCATOR GLO12\n",
      "    title:                         Instantaneous fields for product GLOBAL_AN...\n",
      "    copernicusmarine_version:      1.3.3\n",
      "INFO - 2025-03-04T18:25:59Z - Estimated size of the dataset file is 562.738 MB.\n",
      "Do you want to proceed with download? [Y/n]:"
     ]
    },
    {
     "name": "stdin",
     "output_type": "stream",
     "text": [
      "  Y\n"
     ]
    },
    {
     "name": "stderr",
     "output_type": "stream",
     "text": [
      "INFO - 2025-03-04T18:26:50Z - Writing to local storage. Please wait...\n"
     ]
    },
    {
     "data": {
      "application/vnd.jupyter.widget-view+json": {
       "model_id": "f73d6af8e538458ba806d8792d43a493",
       "version_major": 2,
       "version_minor": 0
      },
      "text/plain": [
       "  0%|          | 0/2962 [00:00<?, ?it/s]"
      ]
     },
     "metadata": {},
     "output_type": "display_data"
    },
    {
     "name": "stderr",
     "output_type": "stream",
     "text": [
      "INFO - 2025-03-04T18:27:43Z - Successfully downloaded to cmems_mod_glo_phy-cur_anfc_0.083deg_PT6H-i_uo-vo_170.00W-110.00W_0.00N-10.00N_0.49m_2023-08-01-2024-02-28.nc\n"
     ]
    },
    {
     "data": {
      "text/plain": [
       "PosixPath('cmems_mod_glo_phy-cur_anfc_0.083deg_PT6H-i_uo-vo_170.00W-110.00W_0.00N-10.00N_0.49m_2023-08-01-2024-02-28.nc')"
      ]
     },
     "execution_count": 13,
     "metadata": {},
     "output_type": "execute_result"
    }
   ],
   "source": [
    "# 2023\n",
    "\n",
    "start_datetime=\"2023-08-01T00:00:00\"\n",
    "end_datetime=\"2024-02-28T00:00:00\"\n",
    "\n",
    "copernicusmarine.subset(\n",
    "  dataset_id=\"cmems_mod_glo_phy-thetao_anfc_0.083deg_PT6H-i\",\n",
    "  variables=[\"thetao\"],\n",
    "  minimum_longitude=-170,\n",
    "  maximum_longitude=-110,\n",
    "  minimum_latitude=0,\n",
    "  maximum_latitude=10,\n",
    "  start_datetime=start_datetime,\n",
    "  end_datetime=end_datetime,\n",
    "  minimum_depth=0.49402499198913574,\n",
    "  maximum_depth=0.49402499198913574,\n",
    ")\n",
    "\n",
    "copernicusmarine.subset(\n",
    "  dataset_id=\"cmems_mod_glo_phy-so_anfc_0.083deg_PT6H-i\",\n",
    "  variables=[\"so\"],\n",
    "  minimum_longitude=-170,\n",
    "  maximum_longitude=-110,\n",
    "  minimum_latitude=0,\n",
    "  maximum_latitude=10,\n",
    "  start_datetime=start_datetime,\n",
    "  end_datetime=end_datetime,\n",
    "  minimum_depth=0.49402499198913574,\n",
    "  maximum_depth=0.49402499198913574,\n",
    ")\n",
    "\n",
    "copernicusmarine.subset(\n",
    "  dataset_id=\"cmems_mod_glo_phy-cur_anfc_0.083deg_PT6H-i\",\n",
    "  variables=[\"uo\", \"vo\"],\n",
    "  minimum_longitude=-170,\n",
    "  maximum_longitude=-110,\n",
    "  minimum_latitude=0,\n",
    "  maximum_latitude=10,\n",
    "  start_datetime=start_datetime,\n",
    "  end_datetime=end_datetime,\n",
    "  minimum_depth=0.49402499198913574,\n",
    "  maximum_depth=0.49402499198913574,\n",
    ")"
   ]
  },
  {
   "cell_type": "code",
   "execution_count": 14,
   "id": "47995d8e-ac8a-4e77-bb8b-1948aedf0766",
   "metadata": {},
   "outputs": [
    {
     "name": "stdout",
     "output_type": "stream",
     "text": [
      "Saved combined dataset to cmems_mod_glo_phy_my_0.083deg_P1D-m_so-thetao-uo-vo_170.00W-110.00W_0.00N-10.00N_0.49m_2023-08-01_to_2024-02-28.nc\n"
     ]
    }
   ],
   "source": [
    "import xarray as xr\n",
    "\n",
    "# Paths to your three downloaded files (update these with your actual filenames if needed)\n",
    "thetao_file = 'cmems_mod_glo_phy-thetao_anfc_0.083deg_PT6H-i_thetao_170.00W-110.00W_0.00N-10.00N_0.49m_2023-08-01-2024-02-28.nc'\n",
    "so_file = 'cmems_mod_glo_phy-so_anfc_0.083deg_PT6H-i_so_170.00W-110.00W_0.00N-10.00N_0.49m_2023-08-01-2024-02-28.nc'\n",
    "cur_file = 'cmems_mod_glo_phy-cur_anfc_0.083deg_PT6H-i_uo-vo_170.00W-110.00W_0.00N-10.00N_0.49m_2023-08-01-2024-02-28.nc'\n",
    "\n",
    "# Open all three datasets\n",
    "ds_thetao = xr.open_dataset(thetao_file)\n",
    "ds_so = xr.open_dataset(so_file)\n",
    "ds_cur = xr.open_dataset(cur_file)\n",
    "\n",
    "# Combine them into one dataset (automatic merge on common dimensions like time, lat, lon, depth)\n",
    "combined_ds = xr.merge([ds_thetao, ds_so, ds_cur])\n",
    "\n",
    "# Optional: Check variable names if you want to clean them\n",
    "# print(combined_ds)\n",
    "\n",
    "# Save to a new combined file\n",
    "combined_filename = 'cmems_mod_glo_phy_my_0.083deg_P1D-m_so-thetao-uo-vo_170.00W-110.00W_0.00N-10.00N_0.49m_2023-08-01_to_2024-02-28.nc'\n",
    "combined_ds.to_netcdf(combined_filename)\n",
    "\n",
    "print(f\"Saved combined dataset to {combined_filename}\")\n"
   ]
  },
  {
   "cell_type": "code",
   "execution_count": 15,
   "id": "3b627137-a451-4247-bd1f-a38a2276e24f",
   "metadata": {},
   "outputs": [
    {
     "name": "stdout",
     "output_type": "stream",
     "text": [
      "username:"
     ]
    },
    {
     "name": "stdin",
     "output_type": "stream",
     "text": [
      "  ckohlman\n"
     ]
    },
    {
     "name": "stdout",
     "output_type": "stream",
     "text": [
      "password:"
     ]
    },
    {
     "name": "stdin",
     "output_type": "stream",
     "text": [
      "  ········\n"
     ]
    },
    {
     "name": "stderr",
     "output_type": "stream",
     "text": [
      "INFO - 2025-03-04T18:28:14Z - Dataset version was not specified, the latest one was selected: \"202406\"\n",
      "INFO - 2025-03-04T18:28:14Z - Dataset part was not specified, the first one was selected: \"default\"\n",
      "INFO - 2025-03-04T18:28:17Z - Service was not specified, the default one was selected: \"arco-time-series\"\n",
      "INFO - 2025-03-04T18:28:21Z - Downloading using service arco-time-series...\n",
      "INFO - 2025-03-04T18:28:25Z - <xarray.Dataset> Size: 295MB\n",
      "Dimensions:    (depth: 1, latitude: 121, longitude: 721, time: 845)\n",
      "Coordinates:\n",
      "  * depth      (depth) float32 4B 0.494\n",
      "  * latitude   (latitude) float32 484B 0.0 0.08334 0.1667 ... 9.833 9.917 10.0\n",
      "  * longitude  (longitude) float32 3kB -170.0 -169.9 -169.8 ... -110.1 -110.0\n",
      "  * time       (time) datetime64[ns] 7kB 2024-08-01 ... 2025-02-28\n",
      "Data variables:\n",
      "    thetao     (time, depth, latitude, longitude) float32 295MB dask.array<chunksize=(526, 1, 32, 32), meta=np.ndarray>\n",
      "Attributes: (12/14)\n",
      "    Conventions:                   CF-1.6\n",
      "    area:                          GLOBAL\n",
      "    contact:                       servicedesk.cmems@mercator-ocean.eu\n",
      "    credit:                        E.U. Copernicus Marine Service Information...\n",
      "    institution:                   Mercator Ocean\n",
      "    licence:                       http://marine.copernicus.eu/services-portf...\n",
      "    ...                            ...\n",
      "    product_user_manual:           http://marine.copernicus.eu/documents/PUM/...\n",
      "    quality_information_document:  http://marine.copernicus.eu/documents/QUID...\n",
      "    references:                    http://marine.copernicus.eu\n",
      "    source:                        MERCATOR GLO12\n",
      "    title:                         Instantaneous fields for product GLOBAL_AN...\n",
      "    copernicusmarine_version:      1.3.3\n",
      "INFO - 2025-03-04T18:28:25Z - Estimated size of the dataset file is 281.369 MB.\n",
      "Do you want to proceed with download? [Y/n]:"
     ]
    },
    {
     "name": "stdin",
     "output_type": "stream",
     "text": [
      "  Y\n"
     ]
    },
    {
     "name": "stderr",
     "output_type": "stream",
     "text": [
      "INFO - 2025-03-04T18:28:28Z - Writing to local storage. Please wait...\n"
     ]
    },
    {
     "data": {
      "application/vnd.jupyter.widget-view+json": {
       "model_id": "7b476640d16945e588f835f8d00a004f",
       "version_major": 2,
       "version_minor": 0
      },
      "text/plain": [
       "  0%|          | 0/1482 [00:00<?, ?it/s]"
      ]
     },
     "metadata": {},
     "output_type": "display_data"
    },
    {
     "name": "stderr",
     "output_type": "stream",
     "text": [
      "INFO - 2025-03-04T18:28:49Z - Successfully downloaded to cmems_mod_glo_phy-thetao_anfc_0.083deg_PT6H-i_thetao_170.00W-110.00W_0.00N-10.00N_0.49m_2024-08-01-2025-02-28.nc\n"
     ]
    },
    {
     "name": "stdout",
     "output_type": "stream",
     "text": [
      "username:"
     ]
    },
    {
     "name": "stdin",
     "output_type": "stream",
     "text": [
      "  ckohlman\n"
     ]
    },
    {
     "name": "stdout",
     "output_type": "stream",
     "text": [
      "password:"
     ]
    },
    {
     "name": "stdin",
     "output_type": "stream",
     "text": [
      "  ········\n"
     ]
    },
    {
     "name": "stderr",
     "output_type": "stream",
     "text": [
      "INFO - 2025-03-04T18:29:10Z - Dataset version was not specified, the latest one was selected: \"202406\"\n",
      "INFO - 2025-03-04T18:29:10Z - Dataset part was not specified, the first one was selected: \"default\"\n",
      "INFO - 2025-03-04T18:29:14Z - Service was not specified, the default one was selected: \"arco-time-series\"\n",
      "INFO - 2025-03-04T18:29:17Z - Downloading using service arco-time-series...\n",
      "INFO - 2025-03-04T18:29:22Z - <xarray.Dataset> Size: 295MB\n",
      "Dimensions:    (depth: 1, latitude: 121, longitude: 721, time: 845)\n",
      "Coordinates:\n",
      "  * depth      (depth) float32 4B 0.494\n",
      "  * latitude   (latitude) float32 484B 0.0 0.08334 0.1667 ... 9.833 9.917 10.0\n",
      "  * longitude  (longitude) float32 3kB -170.0 -169.9 -169.8 ... -110.1 -110.0\n",
      "  * time       (time) datetime64[ns] 7kB 2024-08-01 ... 2025-02-28\n",
      "Data variables:\n",
      "    so         (time, depth, latitude, longitude) float32 295MB dask.array<chunksize=(526, 1, 32, 32), meta=np.ndarray>\n",
      "Attributes: (12/14)\n",
      "    Conventions:                   CF-1.6\n",
      "    area:                          GLOBAL\n",
      "    contact:                       servicedesk.cmems@mercator-ocean.eu\n",
      "    credit:                        E.U. Copernicus Marine Service Information...\n",
      "    institution:                   Mercator Ocean\n",
      "    licence:                       http://marine.copernicus.eu/services-portf...\n",
      "    ...                            ...\n",
      "    product_user_manual:           http://marine.copernicus.eu/documents/PUM/...\n",
      "    quality_information_document:  http://marine.copernicus.eu/documents/QUID...\n",
      "    references:                    http://marine.copernicus.eu\n",
      "    source:                        MERCATOR GLO12\n",
      "    title:                         Instantaneous fields for product GLOBAL_AN...\n",
      "    copernicusmarine_version:      1.3.3\n",
      "INFO - 2025-03-04T18:29:22Z - Estimated size of the dataset file is 281.369 MB.\n",
      "Do you want to proceed with download? [Y/n]:"
     ]
    },
    {
     "name": "stdin",
     "output_type": "stream",
     "text": [
      "  Y\n"
     ]
    },
    {
     "name": "stderr",
     "output_type": "stream",
     "text": [
      "INFO - 2025-03-04T18:29:28Z - Writing to local storage. Please wait...\n"
     ]
    },
    {
     "data": {
      "application/vnd.jupyter.widget-view+json": {
       "model_id": "9cebbf826edf453caa5eb458b9558f90",
       "version_major": 2,
       "version_minor": 0
      },
      "text/plain": [
       "  0%|          | 0/1482 [00:00<?, ?it/s]"
      ]
     },
     "metadata": {},
     "output_type": "display_data"
    },
    {
     "name": "stderr",
     "output_type": "stream",
     "text": [
      "INFO - 2025-03-04T18:29:48Z - Successfully downloaded to cmems_mod_glo_phy-so_anfc_0.083deg_PT6H-i_so_170.00W-110.00W_0.00N-10.00N_0.49m_2024-08-01-2025-02-28.nc\n"
     ]
    },
    {
     "name": "stdout",
     "output_type": "stream",
     "text": [
      "username:"
     ]
    },
    {
     "name": "stdin",
     "output_type": "stream",
     "text": [
      "  ckohlman\n"
     ]
    },
    {
     "name": "stdout",
     "output_type": "stream",
     "text": [
      "password:"
     ]
    },
    {
     "name": "stdin",
     "output_type": "stream",
     "text": [
      "  ········\n"
     ]
    },
    {
     "name": "stderr",
     "output_type": "stream",
     "text": [
      "INFO - 2025-03-04T18:29:57Z - Dataset version was not specified, the latest one was selected: \"202406\"\n",
      "INFO - 2025-03-04T18:29:57Z - Dataset part was not specified, the first one was selected: \"default\"\n",
      "INFO - 2025-03-04T18:30:00Z - Service was not specified, the default one was selected: \"arco-time-series\"\n",
      "INFO - 2025-03-04T18:30:05Z - Downloading using service arco-time-series...\n",
      "INFO - 2025-03-04T18:30:10Z - <xarray.Dataset> Size: 590MB\n",
      "Dimensions:    (depth: 1, latitude: 121, longitude: 721, time: 845)\n",
      "Coordinates:\n",
      "  * depth      (depth) float32 4B 0.494\n",
      "  * latitude   (latitude) float32 484B 0.0 0.08334 0.1667 ... 9.833 9.917 10.0\n",
      "  * longitude  (longitude) float32 3kB -170.0 -169.9 -169.8 ... -110.1 -110.0\n",
      "  * time       (time) datetime64[ns] 7kB 2024-08-01 ... 2025-02-28\n",
      "Data variables:\n",
      "    uo         (time, depth, latitude, longitude) float32 295MB dask.array<chunksize=(526, 1, 32, 32), meta=np.ndarray>\n",
      "    vo         (time, depth, latitude, longitude) float32 295MB dask.array<chunksize=(526, 1, 32, 32), meta=np.ndarray>\n",
      "Attributes: (12/14)\n",
      "    Conventions:                   CF-1.6\n",
      "    area:                          GLOBAL\n",
      "    contact:                       servicedesk.cmems@mercator-ocean.eu\n",
      "    credit:                        E.U. Copernicus Marine Service Information...\n",
      "    institution:                   Mercator Ocean\n",
      "    licence:                       http://marine.copernicus.eu/services-portf...\n",
      "    ...                            ...\n",
      "    product_user_manual:           http://marine.copernicus.eu/documents/PUM/...\n",
      "    quality_information_document:  http://marine.copernicus.eu/documents/QUID...\n",
      "    references:                    http://marine.copernicus.eu\n",
      "    source:                        MERCATOR GLO12\n",
      "    title:                         Instantaneous fields for product GLOBAL_AN...\n",
      "    copernicusmarine_version:      1.3.3\n",
      "INFO - 2025-03-04T18:30:10Z - Estimated size of the dataset file is 562.738 MB.\n",
      "Do you want to proceed with download? [Y/n]:"
     ]
    },
    {
     "name": "stdin",
     "output_type": "stream",
     "text": [
      "  Y\n"
     ]
    },
    {
     "name": "stderr",
     "output_type": "stream",
     "text": [
      "INFO - 2025-03-04T18:30:12Z - Writing to local storage. Please wait...\n"
     ]
    },
    {
     "data": {
      "application/vnd.jupyter.widget-view+json": {
       "model_id": "75e68cf9bccb4d8ebc43c71dc1129686",
       "version_major": 2,
       "version_minor": 0
      },
      "text/plain": [
       "  0%|          | 0/2962 [00:00<?, ?it/s]"
      ]
     },
     "metadata": {},
     "output_type": "display_data"
    },
    {
     "name": "stderr",
     "output_type": "stream",
     "text": [
      "INFO - 2025-03-04T18:31:03Z - Successfully downloaded to cmems_mod_glo_phy-cur_anfc_0.083deg_PT6H-i_uo-vo_170.00W-110.00W_0.00N-10.00N_0.49m_2024-08-01-2025-02-28.nc\n"
     ]
    },
    {
     "data": {
      "text/plain": [
       "PosixPath('cmems_mod_glo_phy-cur_anfc_0.083deg_PT6H-i_uo-vo_170.00W-110.00W_0.00N-10.00N_0.49m_2024-08-01-2025-02-28.nc')"
      ]
     },
     "execution_count": 15,
     "metadata": {},
     "output_type": "execute_result"
    }
   ],
   "source": [
    "# 2024\n",
    "start_datetime=\"2024-08-01T00:00:00\"\n",
    "end_datetime=\"2025-02-28T00:00:00\"\n",
    "\n",
    "copernicusmarine.subset(\n",
    "  dataset_id=\"cmems_mod_glo_phy-thetao_anfc_0.083deg_PT6H-i\",\n",
    "  variables=[\"thetao\"],\n",
    "  minimum_longitude=-170,\n",
    "  maximum_longitude=-110,\n",
    "  minimum_latitude=0,\n",
    "  maximum_latitude=10,\n",
    "  start_datetime=start_datetime,\n",
    "  end_datetime=end_datetime,\n",
    "  minimum_depth=0.49402499198913574,\n",
    "  maximum_depth=0.49402499198913574,\n",
    ")\n",
    "\n",
    "copernicusmarine.subset(\n",
    "  dataset_id=\"cmems_mod_glo_phy-so_anfc_0.083deg_PT6H-i\",\n",
    "  variables=[\"so\"],\n",
    "  minimum_longitude=-170,\n",
    "  maximum_longitude=-110,\n",
    "  minimum_latitude=0,\n",
    "  maximum_latitude=10,\n",
    "  start_datetime=start_datetime,\n",
    "  end_datetime=end_datetime,\n",
    "  minimum_depth=0.49402499198913574,\n",
    "  maximum_depth=0.49402499198913574,\n",
    ")\n",
    "\n",
    "copernicusmarine.subset(\n",
    "  dataset_id=\"cmems_mod_glo_phy-cur_anfc_0.083deg_PT6H-i\",\n",
    "  variables=[\"uo\", \"vo\"],\n",
    "  minimum_longitude=-170,\n",
    "  maximum_longitude=-110,\n",
    "  minimum_latitude=0,\n",
    "  maximum_latitude=10,\n",
    "  start_datetime=start_datetime,\n",
    "  end_datetime=end_datetime,\n",
    "  minimum_depth=0.49402499198913574,\n",
    "  maximum_depth=0.49402499198913574,\n",
    ")"
   ]
  },
  {
   "cell_type": "code",
   "execution_count": 16,
   "id": "5e433de6-88d2-4e69-8543-23c93c597f43",
   "metadata": {},
   "outputs": [
    {
     "name": "stdout",
     "output_type": "stream",
     "text": [
      "Saved combined dataset to cmems_mod_glo_phy_my_0.083deg_P1D-m_so-thetao-uo-vo_170.00W-110.00W_0.00N-10.00N_0.49m_2024-08-01_to_2025-02-28.nc\n"
     ]
    }
   ],
   "source": [
    "import xarray as xr\n",
    "\n",
    "# Paths to your three downloaded files (update these with your actual filenames if needed)\n",
    "thetao_file = 'cmems_mod_glo_phy-thetao_anfc_0.083deg_PT6H-i_thetao_170.00W-110.00W_0.00N-10.00N_0.49m_2024-08-01-2025-02-28.nc'\n",
    "so_file = 'cmems_mod_glo_phy-so_anfc_0.083deg_PT6H-i_so_170.00W-110.00W_0.00N-10.00N_0.49m_2024-08-01-2025-02-28.nc'\n",
    "cur_file = 'cmems_mod_glo_phy-cur_anfc_0.083deg_PT6H-i_uo-vo_170.00W-110.00W_0.00N-10.00N_0.49m_2024-08-01-2025-02-28.nc'\n",
    "\n",
    "# Open all three datasets\n",
    "ds_thetao = xr.open_dataset(thetao_file)\n",
    "ds_so = xr.open_dataset(so_file)\n",
    "ds_cur = xr.open_dataset(cur_file)\n",
    "\n",
    "# Combine them into one dataset (automatic merge on common dimensions like time, lat, lon, depth)\n",
    "combined_ds = xr.merge([ds_thetao, ds_so, ds_cur])\n",
    "\n",
    "# Optional: Check variable names if you want to clean them\n",
    "# print(combined_ds)\n",
    "\n",
    "# Save to a new combined file\n",
    "combined_filename = 'cmems_mod_glo_phy_my_0.083deg_P1D-m_so-thetao-uo-vo_170.00W-110.00W_0.00N-10.00N_0.49m_2024-08-01_to_2025-02-28.nc'\n",
    "combined_ds.to_netcdf(combined_filename)\n",
    "\n",
    "print(f\"Saved combined dataset to {combined_filename}\")\n"
   ]
  },
  {
   "cell_type": "code",
   "execution_count": 17,
   "id": "8210217d-dd10-4986-a7e1-919927b54cd3",
   "metadata": {},
   "outputs": [
    {
     "name": "stdout",
     "output_type": "stream",
     "text": [
      "Requirement already satisfied: xarray in /Users/katiekohlman/opt/anaconda3/lib/python3.9/site-packages (2024.7.0)\n",
      "Requirement already satisfied: xesmf in /Users/katiekohlman/opt/anaconda3/lib/python3.9/site-packages (0.8.8)\n",
      "Requirement already satisfied: netCDF4 in /Users/katiekohlman/opt/anaconda3/lib/python3.9/site-packages (1.7.1)\n",
      "Requirement already satisfied: numpy>=1.23 in /Users/katiekohlman/opt/anaconda3/lib/python3.9/site-packages (from xarray) (1.26.4)\n",
      "Requirement already satisfied: packaging>=23.1 in /Users/katiekohlman/opt/anaconda3/lib/python3.9/site-packages (from xarray) (23.2)\n",
      "Requirement already satisfied: pandas>=2.0 in /Users/katiekohlman/opt/anaconda3/lib/python3.9/site-packages (from xarray) (2.2.2)\n",
      "Requirement already satisfied: cf-xarray>=0.5.1 in /Users/katiekohlman/opt/anaconda3/lib/python3.9/site-packages (from xesmf) (0.9.4)\n",
      "Requirement already satisfied: numba>=0.55.2 in /Users/katiekohlman/opt/anaconda3/lib/python3.9/site-packages (from xesmf) (0.60.0)\n",
      "Requirement already satisfied: shapely in /Users/katiekohlman/opt/anaconda3/lib/python3.9/site-packages (from xesmf) (2.0.4)\n",
      "Requirement already satisfied: sparse>=0.8.0 in /Users/katiekohlman/opt/anaconda3/lib/python3.9/site-packages (from xesmf) (0.15.4)\n",
      "Requirement already satisfied: cftime in /Users/katiekohlman/opt/anaconda3/lib/python3.9/site-packages (from netCDF4) (1.6.4)\n",
      "Requirement already satisfied: certifi in /Users/katiekohlman/opt/anaconda3/lib/python3.9/site-packages (from netCDF4) (2024.8.30)\n",
      "Requirement already satisfied: llvmlite<0.44,>=0.43.0dev0 in /Users/katiekohlman/opt/anaconda3/lib/python3.9/site-packages (from numba>=0.55.2->xesmf) (0.43.0)\n",
      "Requirement already satisfied: python-dateutil>=2.8.2 in /Users/katiekohlman/opt/anaconda3/lib/python3.9/site-packages (from pandas>=2.0->xarray) (2.9.0)\n",
      "Requirement already satisfied: pytz>=2020.1 in /Users/katiekohlman/opt/anaconda3/lib/python3.9/site-packages (from pandas>=2.0->xarray) (2024.2)\n",
      "Requirement already satisfied: tzdata>=2022.7 in /Users/katiekohlman/opt/anaconda3/lib/python3.9/site-packages (from pandas>=2.0->xarray) (2024.2)\n",
      "Requirement already satisfied: scipy>=0.19 in /Users/katiekohlman/opt/anaconda3/lib/python3.9/site-packages (from sparse>=0.8.0->xesmf) (1.13.1)\n",
      "Requirement already satisfied: six>=1.5 in /Users/katiekohlman/opt/anaconda3/lib/python3.9/site-packages (from python-dateutil>=2.8.2->pandas>=2.0->xarray) (1.16.0)\n"
     ]
    }
   ],
   "source": [
    "!pip install xarray xesmf netCDF4"
   ]
  },
  {
   "cell_type": "code",
   "execution_count": 19,
   "id": "d7d13613-fc0b-4a66-917b-11fd3b06b683",
   "metadata": {},
   "outputs": [
    {
     "name": "stdout",
     "output_type": "stream",
     "text": [
      "Regridded dataset saved to /Volumes/external/TIW/data/glorys/winters/cmems_mod_glo_phy-all_my_0.083deg_P1D-m_multi-vars_170.00W-110.00W_0.00N-10.00N_0.51m_2021-08-01-2022-02-28_regridded.nc\n"
     ]
    }
   ],
   "source": [
    "# make the low resolution match the higher resolution\n",
    "\n",
    "import xarray as xr\n",
    "import xesmf as xe\n",
    "\n",
    "# Paths\n",
    "low_res_file = '/Volumes/external/TIW/data/glorys/winters/cmems_mod_glo_phy-all_my_0.25deg_P1D-m_multi-vars_170.00W-110.00W_0.00N-10.00N_0.51m_2021-08-01-2022-02-28.nc'\n",
    "high_res_file = '/Volumes/external/TIW/data/glorys/winters/cmems_mod_glo_phy_my_0.083deg_P1D-m_so-thetao-uo-vo_170.00W-110.00W_0.00N-10.00N_0.49m_2017-08-01-2018-02-28.nc'\n",
    "output_file = '/Volumes/external/TIW/data/glorys/winters/cmems_mod_glo_phy-all_my_0.083deg_P1D-m_multi-vars_170.00W-110.00W_0.00N-10.00N_0.51m_2021-08-01-2022-02-28_regridded.nc'\n",
    "\n",
    "# Open datasets\n",
    "low_res = xr.open_dataset(low_res_file)\n",
    "high_res = xr.open_dataset(high_res_file)\n",
    "\n",
    "# Create target grid using just lat/lon from high-res (ignore its time)\n",
    "high_res_grid = high_res[['latitude', 'longitude']]\n",
    "\n",
    "# Create regridder (this only uses lat/lon, not time)\n",
    "regridder = xe.Regridder(low_res, high_res_grid, method='bilinear')\n",
    "\n",
    "# Regrid all variables in low_res (keep time from low_res)\n",
    "regridded_vars = {}\n",
    "for var in low_res.data_vars:\n",
    "    regridded_vars[var] = regridder(low_res[var])\n",
    "\n",
    "# Build final dataset: keep time from low_res, lat/lon from high_res\n",
    "regridded_ds = xr.Dataset(regridded_vars)\n",
    "\n",
    "# Assign lat/lon from high-res so the grid is correct\n",
    "regridded_ds['latitude'] = high_res['latitude']\n",
    "regridded_ds['longitude'] = high_res['longitude']\n",
    "\n",
    "# Keep time directly from low-res\n",
    "if 'time' in low_res.coords:\n",
    "    regridded_ds['time'] = low_res['time']\n",
    "\n",
    "# Save to new file\n",
    "regridded_ds.to_netcdf(output_file)\n",
    "\n",
    "print(f\"Regridded dataset saved to {output_file}\")\n",
    "\n"
   ]
  },
  {
   "cell_type": "code",
   "execution_count": 4,
   "id": "dd3d0f9f-4093-4a07-9d88-49cdc26b594d",
   "metadata": {},
   "outputs": [
    {
     "name": "stdout",
     "output_type": "stream",
     "text": [
      "username:"
     ]
    },
    {
     "name": "stdin",
     "output_type": "stream",
     "text": [
      "  ckohlman\n"
     ]
    },
    {
     "name": "stdout",
     "output_type": "stream",
     "text": [
      "password:"
     ]
    },
    {
     "name": "stdin",
     "output_type": "stream",
     "text": [
      "  ········\n"
     ]
    },
    {
     "name": "stderr",
     "output_type": "stream",
     "text": [
      "INFO - 2025-03-05T00:16:10Z - Dataset version was not specified, the latest one was selected: \"202406\"\n",
      "INFO - 2025-03-05T00:16:10Z - Dataset part was not specified, the first one was selected: \"default\"\n",
      "INFO - 2025-03-05T00:16:13Z - Service was not specified, the default one was selected: \"arco-time-series\"\n",
      "INFO - 2025-03-05T00:16:17Z - Downloading using service arco-time-series...\n",
      "INFO - 2025-03-05T00:16:34Z - <xarray.Dataset> Size: 4GB\n",
      "Dimensions:    (depth: 1, latitude: 721, time: 845, longitude: 1441)\n",
      "Coordinates:\n",
      "  * depth      (depth) float32 4B 0.494\n",
      "  * latitude   (latitude) float32 3kB -30.0 -29.92 -29.83 ... 29.83 29.92 30.0\n",
      "  * time       (time) datetime64[ns] 7kB 2024-08-01 ... 2025-02-28\n",
      "  * longitude  (longitude) float32 6kB 160.0 160.1 160.2 ... 279.8 279.9 280.0\n",
      "Data variables:\n",
      "    thetao     (time, depth, latitude, longitude) float32 4GB dask.array<chunksize=(526, 1, 32, 32), meta=np.ndarray>\n",
      "Attributes: (12/14)\n",
      "    Conventions:                   CF-1.6\n",
      "    area:                          GLOBAL\n",
      "    contact:                       servicedesk.cmems@mercator-ocean.eu\n",
      "    credit:                        E.U. Copernicus Marine Service Information...\n",
      "    institution:                   Mercator Ocean\n",
      "    licence:                       http://marine.copernicus.eu/services-portf...\n",
      "    ...                            ...\n",
      "    product_user_manual:           http://marine.copernicus.eu/documents/PUM/...\n",
      "    quality_information_document:  http://marine.copernicus.eu/documents/QUID...\n",
      "    references:                    http://marine.copernicus.eu\n",
      "    source:                        MERCATOR GLO12\n",
      "    title:                         Instantaneous fields for product GLOBAL_AN...\n",
      "    copernicusmarine_version:      1.3.3\n",
      "INFO - 2025-03-05T00:16:34Z - Estimated size of the dataset file is 3350.847 MB.\n",
      "Do you want to proceed with download? [Y/n]:"
     ]
    },
    {
     "name": "stdin",
     "output_type": "stream",
     "text": [
      "  Y\n"
     ]
    },
    {
     "name": "stderr",
     "output_type": "stream",
     "text": [
      "INFO - 2025-03-05T00:16:43Z - Writing to local storage. Please wait...\n"
     ]
    },
    {
     "data": {
      "application/vnd.jupyter.widget-view+json": {
       "model_id": "1d916aa6215844a493148d033fd5d5ff",
       "version_major": 2,
       "version_minor": 0
      },
      "text/plain": [
       "  0%|          | 0/23646 [00:00<?, ?it/s]"
      ]
     },
     "metadata": {},
     "output_type": "display_data"
    },
    {
     "ename": "KeyboardInterrupt",
     "evalue": "",
     "output_type": "error",
     "traceback": [
      "\u001b[0;31m---------------------------------------------------------------------------\u001b[0m",
      "\u001b[0;31mKeyboardInterrupt\u001b[0m                         Traceback (most recent call last)",
      "Cell \u001b[0;32mIn[4], line 6\u001b[0m\n\u001b[1;32m      3\u001b[0m start_datetime\u001b[38;5;241m=\u001b[39m\u001b[38;5;124m\"\u001b[39m\u001b[38;5;124m2024-08-01T00:00:00\u001b[39m\u001b[38;5;124m\"\u001b[39m\n\u001b[1;32m      4\u001b[0m end_datetime\u001b[38;5;241m=\u001b[39m\u001b[38;5;124m\"\u001b[39m\u001b[38;5;124m2025-02-28T00:00:00\u001b[39m\u001b[38;5;124m\"\u001b[39m\n\u001b[0;32m----> 6\u001b[0m \u001b[43mcopernicusmarine\u001b[49m\u001b[38;5;241;43m.\u001b[39;49m\u001b[43msubset\u001b[49m\u001b[43m(\u001b[49m\n\u001b[1;32m      7\u001b[0m \u001b[43m  \u001b[49m\u001b[43mdataset_id\u001b[49m\u001b[38;5;241;43m=\u001b[39;49m\u001b[38;5;124;43m\"\u001b[39;49m\u001b[38;5;124;43mcmems_mod_glo_phy-thetao_anfc_0.083deg_PT6H-i\u001b[39;49m\u001b[38;5;124;43m\"\u001b[39;49m\u001b[43m,\u001b[49m\n\u001b[1;32m      8\u001b[0m \u001b[43m  \u001b[49m\u001b[43mvariables\u001b[49m\u001b[38;5;241;43m=\u001b[39;49m\u001b[43m[\u001b[49m\u001b[38;5;124;43m\"\u001b[39;49m\u001b[38;5;124;43mthetao\u001b[39;49m\u001b[38;5;124;43m\"\u001b[39;49m\u001b[43m]\u001b[49m\u001b[43m,\u001b[49m\n\u001b[1;32m      9\u001b[0m \u001b[43m  \u001b[49m\u001b[43mminimum_longitude\u001b[49m\u001b[38;5;241;43m=\u001b[39;49m\u001b[38;5;241;43m-\u001b[39;49m\u001b[38;5;241;43m200\u001b[39;49m\u001b[43m,\u001b[49m\n\u001b[1;32m     10\u001b[0m \u001b[43m  \u001b[49m\u001b[43mmaximum_longitude\u001b[49m\u001b[38;5;241;43m=\u001b[39;49m\u001b[38;5;241;43m-\u001b[39;49m\u001b[38;5;241;43m80\u001b[39;49m\u001b[43m,\u001b[49m\n\u001b[1;32m     11\u001b[0m \u001b[43m  \u001b[49m\u001b[43mminimum_latitude\u001b[49m\u001b[38;5;241;43m=\u001b[39;49m\u001b[38;5;241;43m-\u001b[39;49m\u001b[38;5;241;43m30\u001b[39;49m\u001b[43m,\u001b[49m\n\u001b[1;32m     12\u001b[0m \u001b[43m  \u001b[49m\u001b[43mmaximum_latitude\u001b[49m\u001b[38;5;241;43m=\u001b[39;49m\u001b[38;5;241;43m30\u001b[39;49m\u001b[43m,\u001b[49m\n\u001b[1;32m     13\u001b[0m \u001b[43m  \u001b[49m\u001b[43mstart_datetime\u001b[49m\u001b[38;5;241;43m=\u001b[39;49m\u001b[43mstart_datetime\u001b[49m\u001b[43m,\u001b[49m\n\u001b[1;32m     14\u001b[0m \u001b[43m  \u001b[49m\u001b[43mend_datetime\u001b[49m\u001b[38;5;241;43m=\u001b[39;49m\u001b[43mend_datetime\u001b[49m\u001b[43m,\u001b[49m\n\u001b[1;32m     15\u001b[0m \u001b[43m  \u001b[49m\u001b[43mminimum_depth\u001b[49m\u001b[38;5;241;43m=\u001b[39;49m\u001b[38;5;241;43m0.49402499198913574\u001b[39;49m\u001b[43m,\u001b[49m\n\u001b[1;32m     16\u001b[0m \u001b[43m  \u001b[49m\u001b[43mmaximum_depth\u001b[49m\u001b[38;5;241;43m=\u001b[39;49m\u001b[38;5;241;43m0.49402499198913574\u001b[39;49m\u001b[43m,\u001b[49m\n\u001b[1;32m     17\u001b[0m \u001b[43m)\u001b[49m\n",
      "File \u001b[0;32m~/opt/anaconda3/lib/python3.9/site-packages/copernicusmarine/core_functions/deprecated.py:77\u001b[0m, in \u001b[0;36mdeprecated_python_option.<locals>.deco.<locals>.wrapper\u001b[0;34m(*args, **kwargs)\u001b[0m\n\u001b[1;32m     74\u001b[0m \u001b[38;5;129m@functools\u001b[39m\u001b[38;5;241m.\u001b[39mwraps(f)\n\u001b[1;32m     75\u001b[0m \u001b[38;5;28;01mdef\u001b[39;00m \u001b[38;5;21mwrapper\u001b[39m(\u001b[38;5;241m*\u001b[39margs, \u001b[38;5;241m*\u001b[39m\u001b[38;5;241m*\u001b[39mkwargs):\n\u001b[1;32m     76\u001b[0m     rename_kwargs(f\u001b[38;5;241m.\u001b[39m\u001b[38;5;18m__name__\u001b[39m, kwargs, aliases)\n\u001b[0;32m---> 77\u001b[0m     \u001b[38;5;28;01mreturn\u001b[39;00m \u001b[43mf\u001b[49m\u001b[43m(\u001b[49m\u001b[38;5;241;43m*\u001b[39;49m\u001b[43margs\u001b[49m\u001b[43m,\u001b[49m\u001b[43m \u001b[49m\u001b[38;5;241;43m*\u001b[39;49m\u001b[38;5;241;43m*\u001b[39;49m\u001b[43mkwargs\u001b[49m\u001b[43m)\u001b[49m\n",
      "File \u001b[0;32m~/opt/anaconda3/lib/python3.9/site-packages/copernicusmarine/python_interface/exception_handler.py:13\u001b[0m, in \u001b[0;36mlog_exception_and_exit.<locals>.wrapper\u001b[0;34m(*args, **kwargs)\u001b[0m\n\u001b[1;32m     10\u001b[0m \u001b[38;5;129m@wraps\u001b[39m(function)\n\u001b[1;32m     11\u001b[0m \u001b[38;5;28;01mdef\u001b[39;00m \u001b[38;5;21mwrapper\u001b[39m(\u001b[38;5;241m*\u001b[39margs, \u001b[38;5;241m*\u001b[39m\u001b[38;5;241m*\u001b[39mkwargs):\n\u001b[1;32m     12\u001b[0m     \u001b[38;5;28;01mtry\u001b[39;00m:\n\u001b[0;32m---> 13\u001b[0m         \u001b[38;5;28;01mreturn\u001b[39;00m \u001b[43mfunction\u001b[49m\u001b[43m(\u001b[49m\u001b[38;5;241;43m*\u001b[39;49m\u001b[43margs\u001b[49m\u001b[43m,\u001b[49m\u001b[43m \u001b[49m\u001b[38;5;241;43m*\u001b[39;49m\u001b[38;5;241;43m*\u001b[39;49m\u001b[43mkwargs\u001b[49m\u001b[43m)\u001b[49m\n\u001b[1;32m     14\u001b[0m     \u001b[38;5;28;01mexcept\u001b[39;00m click\u001b[38;5;241m.\u001b[39mAbort:\n\u001b[1;32m     15\u001b[0m         \u001b[38;5;28mprint\u001b[39m(\u001b[38;5;124m\"\u001b[39m\u001b[38;5;124mAbort\u001b[39m\u001b[38;5;124m\"\u001b[39m)\n",
      "File \u001b[0;32m~/opt/anaconda3/lib/python3.9/site-packages/copernicusmarine/python_interface/subset.py:108\u001b[0m, in \u001b[0;36msubset\u001b[0;34m(dataset_url, dataset_id, dataset_version, dataset_part, username, password, variables, minimum_longitude, maximum_longitude, minimum_latitude, maximum_latitude, minimum_depth, maximum_depth, vertical_dimension_as_originally_produced, start_datetime, end_datetime, subset_method, output_filename, file_format, service, request_file, output_directory, credentials_file, motu_api_request, force_download, overwrite_output_data, overwrite_metadata_cache, no_metadata_cache, disable_progress_bar, staging, netcdf_compression_enabled, netcdf_compression_level, netcdf3_compatible)\u001b[0m\n\u001b[1;32m    105\u001b[0m start_datetime \u001b[38;5;241m=\u001b[39m homogenize_datetime(start_datetime)\n\u001b[1;32m    106\u001b[0m end_datetime \u001b[38;5;241m=\u001b[39m homogenize_datetime(end_datetime)\n\u001b[0;32m--> 108\u001b[0m \u001b[38;5;28;01mreturn\u001b[39;00m \u001b[43msubset_function\u001b[49m\u001b[43m(\u001b[49m\n\u001b[1;32m    109\u001b[0m \u001b[43m    \u001b[49m\u001b[43mdataset_url\u001b[49m\u001b[43m,\u001b[49m\n\u001b[1;32m    110\u001b[0m \u001b[43m    \u001b[49m\u001b[43mdataset_id\u001b[49m\u001b[43m,\u001b[49m\n\u001b[1;32m    111\u001b[0m \u001b[43m    \u001b[49m\u001b[43mdataset_version\u001b[49m\u001b[43m,\u001b[49m\n\u001b[1;32m    112\u001b[0m \u001b[43m    \u001b[49m\u001b[43mdataset_part\u001b[49m\u001b[43m,\u001b[49m\n\u001b[1;32m    113\u001b[0m \u001b[43m    \u001b[49m\u001b[43musername\u001b[49m\u001b[43m,\u001b[49m\n\u001b[1;32m    114\u001b[0m \u001b[43m    \u001b[49m\u001b[43mpassword\u001b[49m\u001b[43m,\u001b[49m\n\u001b[1;32m    115\u001b[0m \u001b[43m    \u001b[49m\u001b[43mvariables\u001b[49m\u001b[43m,\u001b[49m\n\u001b[1;32m    116\u001b[0m \u001b[43m    \u001b[49m\u001b[43mminimum_longitude\u001b[49m\u001b[43m,\u001b[49m\n\u001b[1;32m    117\u001b[0m \u001b[43m    \u001b[49m\u001b[43mmaximum_longitude\u001b[49m\u001b[43m,\u001b[49m\n\u001b[1;32m    118\u001b[0m \u001b[43m    \u001b[49m\u001b[43mminimum_latitude\u001b[49m\u001b[43m,\u001b[49m\n\u001b[1;32m    119\u001b[0m \u001b[43m    \u001b[49m\u001b[43mmaximum_latitude\u001b[49m\u001b[43m,\u001b[49m\n\u001b[1;32m    120\u001b[0m \u001b[43m    \u001b[49m\u001b[43mminimum_depth\u001b[49m\u001b[43m,\u001b[49m\n\u001b[1;32m    121\u001b[0m \u001b[43m    \u001b[49m\u001b[43mmaximum_depth\u001b[49m\u001b[43m,\u001b[49m\n\u001b[1;32m    122\u001b[0m \u001b[43m    \u001b[49m\u001b[43mvertical_dimension_as_originally_produced\u001b[49m\u001b[43m,\u001b[49m\n\u001b[1;32m    123\u001b[0m \u001b[43m    \u001b[49m\u001b[43mstart_datetime\u001b[49m\u001b[43m,\u001b[49m\n\u001b[1;32m    124\u001b[0m \u001b[43m    \u001b[49m\u001b[43mend_datetime\u001b[49m\u001b[43m,\u001b[49m\n\u001b[1;32m    125\u001b[0m \u001b[43m    \u001b[49m\u001b[43msubset_method\u001b[49m\u001b[43m,\u001b[49m\n\u001b[1;32m    126\u001b[0m \u001b[43m    \u001b[49m\u001b[43moutput_filename\u001b[49m\u001b[43m,\u001b[49m\n\u001b[1;32m    127\u001b[0m \u001b[43m    \u001b[49m\u001b[43mfile_format\u001b[49m\u001b[43m,\u001b[49m\n\u001b[1;32m    128\u001b[0m \u001b[43m    \u001b[49m\u001b[43mservice\u001b[49m\u001b[43m,\u001b[49m\n\u001b[1;32m    129\u001b[0m \u001b[43m    \u001b[49m\u001b[43mrequest_file\u001b[49m\u001b[43m,\u001b[49m\n\u001b[1;32m    130\u001b[0m \u001b[43m    \u001b[49m\u001b[43moutput_directory\u001b[49m\u001b[43m,\u001b[49m\n\u001b[1;32m    131\u001b[0m \u001b[43m    \u001b[49m\u001b[43mcredentials_file\u001b[49m\u001b[43m,\u001b[49m\n\u001b[1;32m    132\u001b[0m \u001b[43m    \u001b[49m\u001b[43mmotu_api_request\u001b[49m\u001b[43m,\u001b[49m\n\u001b[1;32m    133\u001b[0m \u001b[43m    \u001b[49m\u001b[43mforce_download\u001b[49m\u001b[43m,\u001b[49m\n\u001b[1;32m    134\u001b[0m \u001b[43m    \u001b[49m\u001b[43moverwrite_output_data\u001b[49m\u001b[43m,\u001b[49m\n\u001b[1;32m    135\u001b[0m \u001b[43m    \u001b[49m\u001b[43moverwrite_metadata_cache\u001b[49m\u001b[43m,\u001b[49m\n\u001b[1;32m    136\u001b[0m \u001b[43m    \u001b[49m\u001b[43mno_metadata_cache\u001b[49m\u001b[43m,\u001b[49m\n\u001b[1;32m    137\u001b[0m \u001b[43m    \u001b[49m\u001b[43mdisable_progress_bar\u001b[49m\u001b[43m,\u001b[49m\n\u001b[1;32m    138\u001b[0m \u001b[43m    \u001b[49m\u001b[43mstaging\u001b[49m\u001b[38;5;241;43m=\u001b[39;49m\u001b[43mstaging\u001b[49m\u001b[43m,\u001b[49m\n\u001b[1;32m    139\u001b[0m \u001b[43m    \u001b[49m\u001b[43mnetcdf_compression_enabled\u001b[49m\u001b[38;5;241;43m=\u001b[39;49m\u001b[43mnetcdf_compression_enabled\u001b[49m\u001b[43m,\u001b[49m\n\u001b[1;32m    140\u001b[0m \u001b[43m    \u001b[49m\u001b[43mnetcdf_compression_level\u001b[49m\u001b[38;5;241;43m=\u001b[39;49m\u001b[43mnetcdf_compression_level\u001b[49m\u001b[43m,\u001b[49m\n\u001b[1;32m    141\u001b[0m \u001b[43m    \u001b[49m\u001b[43mnetcdf3_compatible\u001b[49m\u001b[38;5;241;43m=\u001b[39;49m\u001b[43mnetcdf3_compatible\u001b[49m\u001b[43m,\u001b[49m\n\u001b[1;32m    142\u001b[0m \u001b[43m\u001b[49m\u001b[43m)\u001b[49m\n",
      "File \u001b[0;32m~/opt/anaconda3/lib/python3.9/site-packages/copernicusmarine/core_functions/subset.py:230\u001b[0m, in \u001b[0;36msubset_function\u001b[0;34m(dataset_url, dataset_id, force_dataset_version, force_dataset_part, username, password, variables, minimum_longitude, maximum_longitude, minimum_latitude, maximum_latitude, minimum_depth, maximum_depth, vertical_dimension_as_originally_produced, start_datetime, end_datetime, subset_method, output_filename, file_format, force_service, request_file, output_directory, credentials_file, motu_api_request, force_download, overwrite_output_data, overwrite_metadata_cache, no_metadata_cache, disable_progress_bar, staging, netcdf_compression_enabled, netcdf_compression_level, netcdf3_compatible)\u001b[0m\n\u001b[1;32m    220\u001b[0m \u001b[38;5;28;01mif\u001b[39;00m retrieval_service\u001b[38;5;241m.\u001b[39mservice_type \u001b[38;5;129;01min\u001b[39;00m [\n\u001b[1;32m    221\u001b[0m     CopernicusMarineDatasetServiceType\u001b[38;5;241m.\u001b[39mGEOSERIES,\n\u001b[1;32m    222\u001b[0m     CopernicusMarineDatasetServiceType\u001b[38;5;241m.\u001b[39mTIMESERIES,\n\u001b[1;32m    223\u001b[0m     CopernicusMarineDatasetServiceType\u001b[38;5;241m.\u001b[39mOMI_ARCO,\n\u001b[1;32m    224\u001b[0m     CopernicusMarineDatasetServiceType\u001b[38;5;241m.\u001b[39mSTATIC_ARCO,\n\u001b[1;32m    225\u001b[0m ]:\n\u001b[1;32m    226\u001b[0m     \u001b[38;5;28;01mif\u001b[39;00m (\n\u001b[1;32m    227\u001b[0m         retrieval_service\u001b[38;5;241m.\u001b[39mservice_format\n\u001b[1;32m    228\u001b[0m         \u001b[38;5;241m==\u001b[39m CopernicusMarineServiceFormat\u001b[38;5;241m.\u001b[39mZARR\n\u001b[1;32m    229\u001b[0m     ):\n\u001b[0;32m--> 230\u001b[0m         output_path \u001b[38;5;241m=\u001b[39m \u001b[43mdownload_zarr\u001b[49m\u001b[43m(\u001b[49m\n\u001b[1;32m    231\u001b[0m \u001b[43m            \u001b[49m\u001b[43musername\u001b[49m\u001b[43m,\u001b[49m\n\u001b[1;32m    232\u001b[0m \u001b[43m            \u001b[49m\u001b[43mpassword\u001b[49m\u001b[43m,\u001b[49m\n\u001b[1;32m    233\u001b[0m \u001b[43m            \u001b[49m\u001b[43msubset_request\u001b[49m\u001b[43m,\u001b[49m\n\u001b[1;32m    234\u001b[0m \u001b[43m            \u001b[49m\u001b[43mretrieval_service\u001b[49m\u001b[38;5;241;43m.\u001b[39;49m\u001b[43mdataset_id\u001b[49m\u001b[43m,\u001b[49m\n\u001b[1;32m    235\u001b[0m \u001b[43m            \u001b[49m\u001b[43mdisable_progress_bar\u001b[49m\u001b[43m,\u001b[49m\n\u001b[1;32m    236\u001b[0m \u001b[43m            \u001b[49m\u001b[43mretrieval_service\u001b[49m\u001b[38;5;241;43m.\u001b[39;49m\u001b[43mdataset_valid_start_date\u001b[49m\u001b[43m,\u001b[49m\n\u001b[1;32m    237\u001b[0m \u001b[43m        \u001b[49m\u001b[43m)\u001b[49m\n\u001b[1;32m    238\u001b[0m \u001b[38;5;28;01melse\u001b[39;00m:\n\u001b[1;32m    239\u001b[0m     \u001b[38;5;28;01mraise\u001b[39;00m ServiceNotSupported(retrieval_service\u001b[38;5;241m.\u001b[39mservice_type)\n",
      "File \u001b[0;32m~/opt/anaconda3/lib/python3.9/site-packages/copernicusmarine/download_functions/download_arco_series.py:182\u001b[0m, in \u001b[0;36mdownload_zarr\u001b[0;34m(username, password, subset_request, dataset_id, disable_progress_bar, dataset_valid_start_date)\u001b[0m\n\u001b[1;32m    179\u001b[0m variables \u001b[38;5;241m=\u001b[39m subset_request\u001b[38;5;241m.\u001b[39mvariables\n\u001b[1;32m    180\u001b[0m force_download \u001b[38;5;241m=\u001b[39m subset_request\u001b[38;5;241m.\u001b[39mforce_download\n\u001b[0;32m--> 182\u001b[0m output_path \u001b[38;5;241m=\u001b[39m \u001b[43mdownload_dataset\u001b[49m\u001b[43m(\u001b[49m\n\u001b[1;32m    183\u001b[0m \u001b[43m    \u001b[49m\u001b[43musername\u001b[49m\u001b[38;5;241;43m=\u001b[39;49m\u001b[43musername\u001b[49m\u001b[43m,\u001b[49m\n\u001b[1;32m    184\u001b[0m \u001b[43m    \u001b[49m\u001b[43mpassword\u001b[49m\u001b[38;5;241;43m=\u001b[39;49m\u001b[43mpassword\u001b[49m\u001b[43m,\u001b[49m\n\u001b[1;32m    185\u001b[0m \u001b[43m    \u001b[49m\u001b[43mdataset_id\u001b[49m\u001b[38;5;241;43m=\u001b[39;49m\u001b[43mdataset_id\u001b[49m\u001b[43m,\u001b[49m\n\u001b[1;32m    186\u001b[0m \u001b[43m    \u001b[49m\u001b[43mgeographical_parameters\u001b[49m\u001b[38;5;241;43m=\u001b[39;49m\u001b[43mgeographical_parameters\u001b[49m\u001b[43m,\u001b[49m\n\u001b[1;32m    187\u001b[0m \u001b[43m    \u001b[49m\u001b[43mtemporal_parameters\u001b[49m\u001b[38;5;241;43m=\u001b[39;49m\u001b[43mtemporal_parameters\u001b[49m\u001b[43m,\u001b[49m\n\u001b[1;32m    188\u001b[0m \u001b[43m    \u001b[49m\u001b[43mdepth_parameters\u001b[49m\u001b[38;5;241;43m=\u001b[39;49m\u001b[43mdepth_parameters\u001b[49m\u001b[43m,\u001b[49m\n\u001b[1;32m    189\u001b[0m \u001b[43m    \u001b[49m\u001b[43mdataset_url\u001b[49m\u001b[38;5;241;43m=\u001b[39;49m\u001b[43mdataset_url\u001b[49m\u001b[43m,\u001b[49m\n\u001b[1;32m    190\u001b[0m \u001b[43m    \u001b[49m\u001b[43moutput_directory\u001b[49m\u001b[38;5;241;43m=\u001b[39;49m\u001b[43moutput_directory\u001b[49m\u001b[43m,\u001b[49m\n\u001b[1;32m    191\u001b[0m \u001b[43m    \u001b[49m\u001b[43moutput_filename\u001b[49m\u001b[38;5;241;43m=\u001b[39;49m\u001b[43msubset_request\u001b[49m\u001b[38;5;241;43m.\u001b[39;49m\u001b[43moutput_filename\u001b[49m\u001b[43m,\u001b[49m\n\u001b[1;32m    192\u001b[0m \u001b[43m    \u001b[49m\u001b[43mfile_format\u001b[49m\u001b[38;5;241;43m=\u001b[39;49m\u001b[43msubset_request\u001b[49m\u001b[38;5;241;43m.\u001b[39;49m\u001b[43mfile_format\u001b[49m\u001b[43m,\u001b[49m\n\u001b[1;32m    193\u001b[0m \u001b[43m    \u001b[49m\u001b[43mvariables\u001b[49m\u001b[38;5;241;43m=\u001b[39;49m\u001b[43mvariables\u001b[49m\u001b[43m,\u001b[49m\n\u001b[1;32m    194\u001b[0m \u001b[43m    \u001b[49m\u001b[43mdisable_progress_bar\u001b[49m\u001b[38;5;241;43m=\u001b[39;49m\u001b[43mdisable_progress_bar\u001b[49m\u001b[43m,\u001b[49m\n\u001b[1;32m    195\u001b[0m \u001b[43m    \u001b[49m\u001b[43mforce_download\u001b[49m\u001b[38;5;241;43m=\u001b[39;49m\u001b[43mforce_download\u001b[49m\u001b[43m,\u001b[49m\n\u001b[1;32m    196\u001b[0m \u001b[43m    \u001b[49m\u001b[43moverwrite_output_data\u001b[49m\u001b[38;5;241;43m=\u001b[39;49m\u001b[43msubset_request\u001b[49m\u001b[38;5;241;43m.\u001b[39;49m\u001b[43moverwrite_output_data\u001b[49m\u001b[43m,\u001b[49m\n\u001b[1;32m    197\u001b[0m \u001b[43m    \u001b[49m\u001b[43mnetcdf_compression_enabled\u001b[49m\u001b[38;5;241;43m=\u001b[39;49m\u001b[43msubset_request\u001b[49m\u001b[38;5;241;43m.\u001b[39;49m\u001b[43mnetcdf_compression_enabled\u001b[49m\u001b[43m,\u001b[49m\n\u001b[1;32m    198\u001b[0m \u001b[43m    \u001b[49m\u001b[43mnetcdf_compression_level\u001b[49m\u001b[38;5;241;43m=\u001b[39;49m\u001b[43msubset_request\u001b[49m\u001b[38;5;241;43m.\u001b[39;49m\u001b[43mnetcdf_compression_level\u001b[49m\u001b[43m,\u001b[49m\n\u001b[1;32m    199\u001b[0m \u001b[43m    \u001b[49m\u001b[43mnetcdf3_compatible\u001b[49m\u001b[38;5;241;43m=\u001b[39;49m\u001b[43msubset_request\u001b[49m\u001b[38;5;241;43m.\u001b[39;49m\u001b[43mnetcdf3_compatible\u001b[49m\u001b[43m,\u001b[49m\n\u001b[1;32m    200\u001b[0m \u001b[43m\u001b[49m\u001b[43m)\u001b[49m\n\u001b[1;32m    201\u001b[0m \u001b[38;5;28;01mreturn\u001b[39;00m output_path\n",
      "File \u001b[0;32m~/opt/anaconda3/lib/python3.9/site-packages/copernicusmarine/download_functions/download_arco_series.py:131\u001b[0m, in \u001b[0;36mdownload_dataset\u001b[0;34m(username, password, dataset_id, geographical_parameters, temporal_parameters, depth_parameters, dataset_url, output_directory, output_filename, file_format, variables, disable_progress_bar, netcdf_compression_enabled, netcdf_compression_level, netcdf3_compatible, force_download, overwrite_output_data)\u001b[0m\n\u001b[1;32m    120\u001b[0m output_path \u001b[38;5;241m=\u001b[39m get_unique_filename(\n\u001b[1;32m    121\u001b[0m     filepath\u001b[38;5;241m=\u001b[39moutput_path, overwrite_option\u001b[38;5;241m=\u001b[39moverwrite_output_data\n\u001b[1;32m    122\u001b[0m )\n\u001b[1;32m    124\u001b[0m delayed \u001b[38;5;241m=\u001b[39m get_delayed_download(\n\u001b[1;32m    125\u001b[0m     dataset,\n\u001b[1;32m    126\u001b[0m     output_path,\n\u001b[0;32m   (...)\u001b[0m\n\u001b[1;32m    129\u001b[0m     netcdf3_compatible,\n\u001b[1;32m    130\u001b[0m )\n\u001b[0;32m--> 131\u001b[0m \u001b[43mdownload_delayed_dataset\u001b[49m\u001b[43m(\u001b[49m\u001b[43mdelayed\u001b[49m\u001b[43m,\u001b[49m\u001b[43m \u001b[49m\u001b[43mdisable_progress_bar\u001b[49m\u001b[43m)\u001b[49m\n\u001b[1;32m    132\u001b[0m logger\u001b[38;5;241m.\u001b[39minfo(\u001b[38;5;124mf\u001b[39m\u001b[38;5;124m\"\u001b[39m\u001b[38;5;124mSuccessfully downloaded to \u001b[39m\u001b[38;5;132;01m{\u001b[39;00moutput_path\u001b[38;5;132;01m}\u001b[39;00m\u001b[38;5;124m\"\u001b[39m)\n\u001b[1;32m    134\u001b[0m \u001b[38;5;28;01mreturn\u001b[39;00m output_path\n",
      "File \u001b[0;32m~/opt/anaconda3/lib/python3.9/site-packages/copernicusmarine/download_functions/common_download.py:49\u001b[0m, in \u001b[0;36mdownload_delayed_dataset\u001b[0;34m(delayed, disable_progress_bar)\u001b[0m\n\u001b[1;32m     47\u001b[0m \u001b[38;5;28;01melse\u001b[39;00m:\n\u001b[1;32m     48\u001b[0m     \u001b[38;5;28;01mwith\u001b[39;00m TqdmCallback():\n\u001b[0;32m---> 49\u001b[0m         \u001b[43mdelayed\u001b[49m\u001b[38;5;241;43m.\u001b[39;49m\u001b[43mcompute\u001b[49m\u001b[43m(\u001b[49m\u001b[43m)\u001b[49m\n",
      "File \u001b[0;32m~/opt/anaconda3/lib/python3.9/site-packages/dask/base.py:376\u001b[0m, in \u001b[0;36mDaskMethodsMixin.compute\u001b[0;34m(self, **kwargs)\u001b[0m\n\u001b[1;32m    352\u001b[0m \u001b[38;5;28;01mdef\u001b[39;00m \u001b[38;5;21mcompute\u001b[39m(\u001b[38;5;28mself\u001b[39m, \u001b[38;5;241m*\u001b[39m\u001b[38;5;241m*\u001b[39mkwargs):\n\u001b[1;32m    353\u001b[0m \u001b[38;5;250m    \u001b[39m\u001b[38;5;124;03m\"\"\"Compute this dask collection\u001b[39;00m\n\u001b[1;32m    354\u001b[0m \n\u001b[1;32m    355\u001b[0m \u001b[38;5;124;03m    This turns a lazy Dask collection into its in-memory equivalent.\u001b[39;00m\n\u001b[0;32m   (...)\u001b[0m\n\u001b[1;32m    374\u001b[0m \u001b[38;5;124;03m    dask.compute\u001b[39;00m\n\u001b[1;32m    375\u001b[0m \u001b[38;5;124;03m    \"\"\"\u001b[39;00m\n\u001b[0;32m--> 376\u001b[0m     (result,) \u001b[38;5;241m=\u001b[39m \u001b[43mcompute\u001b[49m\u001b[43m(\u001b[49m\u001b[38;5;28;43mself\u001b[39;49m\u001b[43m,\u001b[49m\u001b[43m \u001b[49m\u001b[43mtraverse\u001b[49m\u001b[38;5;241;43m=\u001b[39;49m\u001b[38;5;28;43;01mFalse\u001b[39;49;00m\u001b[43m,\u001b[49m\u001b[43m \u001b[49m\u001b[38;5;241;43m*\u001b[39;49m\u001b[38;5;241;43m*\u001b[39;49m\u001b[43mkwargs\u001b[49m\u001b[43m)\u001b[49m\n\u001b[1;32m    377\u001b[0m     \u001b[38;5;28;01mreturn\u001b[39;00m result\n",
      "File \u001b[0;32m~/opt/anaconda3/lib/python3.9/site-packages/dask/base.py:662\u001b[0m, in \u001b[0;36mcompute\u001b[0;34m(traverse, optimize_graph, scheduler, get, *args, **kwargs)\u001b[0m\n\u001b[1;32m    659\u001b[0m     postcomputes\u001b[38;5;241m.\u001b[39mappend(x\u001b[38;5;241m.\u001b[39m__dask_postcompute__())\n\u001b[1;32m    661\u001b[0m \u001b[38;5;28;01mwith\u001b[39;00m shorten_traceback():\n\u001b[0;32m--> 662\u001b[0m     results \u001b[38;5;241m=\u001b[39m \u001b[43mschedule\u001b[49m\u001b[43m(\u001b[49m\u001b[43mdsk\u001b[49m\u001b[43m,\u001b[49m\u001b[43m \u001b[49m\u001b[43mkeys\u001b[49m\u001b[43m,\u001b[49m\u001b[43m \u001b[49m\u001b[38;5;241;43m*\u001b[39;49m\u001b[38;5;241;43m*\u001b[39;49m\u001b[43mkwargs\u001b[49m\u001b[43m)\u001b[49m\n\u001b[1;32m    664\u001b[0m \u001b[38;5;28;01mreturn\u001b[39;00m repack([f(r, \u001b[38;5;241m*\u001b[39ma) \u001b[38;5;28;01mfor\u001b[39;00m r, (f, a) \u001b[38;5;129;01min\u001b[39;00m \u001b[38;5;28mzip\u001b[39m(results, postcomputes)])\n",
      "File \u001b[0;32m~/opt/anaconda3/lib/python3.9/queue.py:171\u001b[0m, in \u001b[0;36mQueue.get\u001b[0;34m(self, block, timeout)\u001b[0m\n\u001b[1;32m    169\u001b[0m \u001b[38;5;28;01melif\u001b[39;00m timeout \u001b[38;5;129;01mis\u001b[39;00m \u001b[38;5;28;01mNone\u001b[39;00m:\n\u001b[1;32m    170\u001b[0m     \u001b[38;5;28;01mwhile\u001b[39;00m \u001b[38;5;129;01mnot\u001b[39;00m \u001b[38;5;28mself\u001b[39m\u001b[38;5;241m.\u001b[39m_qsize():\n\u001b[0;32m--> 171\u001b[0m         \u001b[38;5;28;43mself\u001b[39;49m\u001b[38;5;241;43m.\u001b[39;49m\u001b[43mnot_empty\u001b[49m\u001b[38;5;241;43m.\u001b[39;49m\u001b[43mwait\u001b[49m\u001b[43m(\u001b[49m\u001b[43m)\u001b[49m\n\u001b[1;32m    172\u001b[0m \u001b[38;5;28;01melif\u001b[39;00m timeout \u001b[38;5;241m<\u001b[39m \u001b[38;5;241m0\u001b[39m:\n\u001b[1;32m    173\u001b[0m     \u001b[38;5;28;01mraise\u001b[39;00m \u001b[38;5;167;01mValueError\u001b[39;00m(\u001b[38;5;124m\"\u001b[39m\u001b[38;5;124m'\u001b[39m\u001b[38;5;124mtimeout\u001b[39m\u001b[38;5;124m'\u001b[39m\u001b[38;5;124m must be a non-negative number\u001b[39m\u001b[38;5;124m\"\u001b[39m)\n",
      "File \u001b[0;32m~/opt/anaconda3/lib/python3.9/threading.py:312\u001b[0m, in \u001b[0;36mCondition.wait\u001b[0;34m(self, timeout)\u001b[0m\n\u001b[1;32m    310\u001b[0m \u001b[38;5;28;01mtry\u001b[39;00m:    \u001b[38;5;66;03m# restore state no matter what (e.g., KeyboardInterrupt)\u001b[39;00m\n\u001b[1;32m    311\u001b[0m     \u001b[38;5;28;01mif\u001b[39;00m timeout \u001b[38;5;129;01mis\u001b[39;00m \u001b[38;5;28;01mNone\u001b[39;00m:\n\u001b[0;32m--> 312\u001b[0m         \u001b[43mwaiter\u001b[49m\u001b[38;5;241;43m.\u001b[39;49m\u001b[43macquire\u001b[49m\u001b[43m(\u001b[49m\u001b[43m)\u001b[49m\n\u001b[1;32m    313\u001b[0m         gotit \u001b[38;5;241m=\u001b[39m \u001b[38;5;28;01mTrue\u001b[39;00m\n\u001b[1;32m    314\u001b[0m     \u001b[38;5;28;01melse\u001b[39;00m:\n",
      "\u001b[0;31mKeyboardInterrupt\u001b[0m: "
     ]
    }
   ],
   "source": [
    "# 2024\n",
    "import copernicusmarine\n",
    "start_datetime=\"2024-08-01T00:00:00\"\n",
    "end_datetime=\"2025-02-28T00:00:00\"\n",
    "\n",
    "copernicusmarine.subset(\n",
    "  dataset_id=\"cmems_mod_glo_phy-thetao_anfc_0.083deg_PT6H-i\",\n",
    "  variables=[\"thetao\"],\n",
    "  minimum_longitude=-200,\n",
    "  maximum_longitude=-80,\n",
    "  minimum_latitude=-30,\n",
    "  maximum_latitude=30,\n",
    "  start_datetime=start_datetime,\n",
    "  end_datetime=end_datetime,\n",
    "  minimum_depth=0.49402499198913574,\n",
    "  maximum_depth=0.49402499198913574,\n",
    ")"
   ]
  },
  {
   "cell_type": "code",
   "execution_count": 5,
   "id": "c5b8f9c2-380f-4132-9d44-10e41d3d7873",
   "metadata": {},
   "outputs": [
    {
     "name": "stdout",
     "output_type": "stream",
     "text": [
      "username:"
     ]
    },
    {
     "name": "stdin",
     "output_type": "stream",
     "text": [
      "  ckohlman\n"
     ]
    },
    {
     "name": "stdout",
     "output_type": "stream",
     "text": [
      "password:"
     ]
    },
    {
     "name": "stdin",
     "output_type": "stream",
     "text": [
      "  ········\n"
     ]
    },
    {
     "name": "stderr",
     "output_type": "stream",
     "text": [
      "INFO - 2025-03-05T00:18:26Z - Dataset version was not specified, the latest one was selected: \"202311\"\n",
      "INFO - 2025-03-05T00:18:26Z - Dataset part was not specified, the first one was selected: \"default\"\n",
      "INFO - 2025-03-05T00:18:29Z - Service was not specified, the default one was selected: \"arco-geo-series\"\n",
      "INFO - 2025-03-05T00:18:32Z - Downloading using service arco-geo-series...\n",
      "INFO - 2025-03-05T00:19:52Z - <xarray.Dataset> Size: 2GB\n",
      "Dimensions:    (depth: 1, latitude: 721, time: 212, longitude: 1441)\n",
      "Coordinates:\n",
      "  * depth      (depth) float32 4B 0.494\n",
      "  * latitude   (latitude) float32 3kB -30.0 -29.92 -29.83 ... 29.83 29.92 30.0\n",
      "  * time       (time) datetime64[ns] 2kB 2017-08-01 2017-08-02 ... 2018-02-28\n",
      "  * longitude  (longitude) float32 6kB 160.0 160.1 160.2 ... 279.8 279.9 280.0\n",
      "Data variables:\n",
      "    thetao     (time, depth, latitude, longitude) float64 2GB dask.array<chunksize=(1, 1, 512, 1441), meta=np.ndarray>\n",
      "Attributes: (12/25)\n",
      "    Conventions:               CF-1.4\n",
      "    bulletin_date:             2021-07-07 00:00:00\n",
      "    bulletin_type:             operational\n",
      "    comment:                   CMEMS product\n",
      "    domain_name:               GL12\n",
      "    easting:                   longitude\n",
      "    ...                        ...\n",
      "    references:                http://www.mercator-ocean.fr\n",
      "    source:                    MERCATOR GLORYS12V1\n",
      "    title:                     daily mean fields from Global Ocean Physics An...\n",
      "    z_max:                     5727.9169921875\n",
      "    z_min:                     0.49402499198913574\n",
      "    copernicusmarine_version:  1.3.3\n",
      "INFO - 2025-03-05T00:19:52Z - Estimated size of the dataset file is 1681.372 MB.\n",
      "Do you want to proceed with download? [Y/n]:"
     ]
    },
    {
     "name": "stdin",
     "output_type": "stream",
     "text": [
      "  Y\n"
     ]
    },
    {
     "name": "stderr",
     "output_type": "stream",
     "text": [
      "INFO - 2025-03-05T00:20:21Z - Writing to local storage. Please wait...\n"
     ]
    },
    {
     "data": {
      "application/vnd.jupyter.widget-view+json": {
       "model_id": "deee2d5267e5481fae34fa65d877c6aa",
       "version_major": 2,
       "version_minor": 0
      },
      "text/plain": [
       "  0%|          | 0/7210 [00:00<?, ?it/s]"
      ]
     },
     "metadata": {},
     "output_type": "display_data"
    },
    {
     "name": "stderr",
     "output_type": "stream",
     "text": [
      "INFO - 2025-03-05T00:22:13Z - Successfully downloaded to cmems_mod_glo_phy_my_0.083deg_P1D-m_thetao_160.00E-280.00E_30.00S-30.00N_0.49m_2017-08-01-2018-02-28.nc\n"
     ]
    },
    {
     "data": {
      "text/plain": [
       "PosixPath('cmems_mod_glo_phy_my_0.083deg_P1D-m_thetao_160.00E-280.00E_30.00S-30.00N_0.49m_2017-08-01-2018-02-28.nc')"
      ]
     },
     "execution_count": 5,
     "metadata": {},
     "output_type": "execute_result"
    }
   ],
   "source": [
    "import copernicusmarine\n",
    "# 2017 \n",
    "copernicusmarine.subset(\n",
    "  dataset_id=\"cmems_mod_glo_phy_my_0.083deg_P1D-m\",\n",
    "  variables=[\"thetao\"],\n",
    "  minimum_longitude=-200,\n",
    "  maximum_longitude=-80,\n",
    "  minimum_latitude=-30,\n",
    "  maximum_latitude=30,\n",
    "  start_datetime=\"2017-08-01T00:00:00\",\n",
    "  end_datetime=\"2018-02-28T00:00:00\",\n",
    "  minimum_depth=0.49402499198913574,\n",
    "  maximum_depth=0.49402499198913574,\n",
    ")"
   ]
  },
  {
   "cell_type": "code",
   "execution_count": null,
   "id": "5bbc5b06-a9e2-4fc3-b51d-441e15ee191a",
   "metadata": {},
   "outputs": [],
   "source": []
  }
 ],
 "metadata": {
  "kernelspec": {
   "display_name": "Python 3 (ipykernel)",
   "language": "python",
   "name": "python3"
  },
  "language_info": {
   "codemirror_mode": {
    "name": "ipython",
    "version": 3
   },
   "file_extension": ".py",
   "mimetype": "text/x-python",
   "name": "python",
   "nbconvert_exporter": "python",
   "pygments_lexer": "ipython3",
   "version": "3.9.20"
  }
 },
 "nbformat": 4,
 "nbformat_minor": 5
}
